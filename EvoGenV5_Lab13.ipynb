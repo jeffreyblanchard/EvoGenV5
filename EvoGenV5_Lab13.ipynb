{
 "cells": [
  {
   "cell_type": "markdown",
   "metadata": {},
   "source": [
    "## Lab 13: Introduction to the RDP classifier and Phylogenetic Analysis\n",
    "\n",
    "## Tree of Life Project introduction\n",
    "\n",
    "Carl Woese sequenced isolated and sequenced ribosomal RNA to discover a new domain of life, the Archaea. The method he used for directly sequencing RNA was very laborious as shown in the segment of <a href=\"https://www.asm.org/index.php/asm-org-updates/itemlist/category/155-intimate-strangers\" target=\"_blank\">Intimate Strangers: The Puzzle</a>\". His discovery was dependent on using phylogenetic methods to determine the relationship of his microbial sequence to other sequences in the database. Since his discovery, progress sequencing specfic genes from genomic DNA has greatly simplified the process of understanding microbial phylogenies. In this project you will be given a DNA sequence, then construct a multiple sequence alignment and do a phylogenetic analysis to show the relationships among the taxa represented by the DNA sequences. \n",
    "\n",
    "### Getting the DNA sequences\n",
    "\n",
    "I have assembled a core group DNA sequences of small subunit ribosomal gene from our national DNA database Genbank to provide a context for the phylogenetic analysis of your unknown sequence and put it on the Moodle site - Tree_of_Life_Core_Sequences.txt. Download this to your computer. The files contains data for the following species.\n",
    "\n",
    "* Thermoplasma volcanium\n",
    "* Halalkalicoccus jeotgali\n",
    "* Candidatus Korarchaeum cryptofilum\n",
    "* Nanoarchaeum equitans\n",
    "* Chlorobium chlorochromatii\n",
    "* Burkholderia cenocepacia\n",
    "* Rhizobium leguminosarum\n",
    "* Escherichia coli\n",
    "* Archaeoglobus fulgidus\n",
    "* Methanocaldococcus jannaschii\n",
    "* Pyrococcus abyssi\n",
    "* Oryza sativa nuclear\n",
    "* Oryza sativa mitochondrion\n",
    "* Oryza sativa chloroplast\n",
    "* Saccharomyces cerevisiae nuclear\n",
    "* Homo sapies nuclear\n",
    "* Drosophila yakuba nuclear\n",
    "* Amphidinium carterae nuclear\n",
    "* Thermotoga lettingae\n",
    "* Prochlorococcus marinus\n",
    "* Trypanosoma cruzi\n",
    "\n",
    "If you need to know more about an organism you can check out the NCBI genome project site (e.g. <a href=\"http://www.ncbi.nlm.nih.gov/bioproject/35283\" target=\"_blank\">Nanoarchaeum equitans genome project site</a>) or Wikipedia for what is usually a good summary <a href=\"http://en.wikipedia.org/wiki/Nanoarchaeum_equitans\" target=\"_blank\">Nanoarchaeum equitans</a>. Next download the file - unknown sequences.txt. Get the sequence that has your ID in the fasta header and paste it in into the Tree_of_Life_Core_Sequences.txt. Make sure that you only include your sequence and not all the sequences in the unknown_sequences file.\n",
    "\n",
    "### Phylogenetic Analysis\n",
    "\n",
    "Doing a phylogenetic analysis involves (1) assembling a group of sequences to evaluate, (2) aligning the sequences so that a distance can be calculate between the sequences, (3) determining the relationships among the sequences, and (4) visualizing the relationships. Step 1 was accomplished above by getting representative archaeal, bacterial and eukaryotic sequences from GenBank. Steps 2-4 will be done on web server that has been set up to run these steps at the same time. Go to the site for <a href=\"http://www.phylogeny.fr/\" target=\"_blank\">Robust Phylogenetic Analysis For The Non-Specialist</a>. Scroll down and under Phylogenetic Analysis select \"One Click\". Paste in all of the core sequences and your unknown sequence. Then click submit. This will start the analysis process. Save you tree as a png file to your computer. This will allow you to upload it in a word processor like Open Office or Word or post it to a Jupyter file. Also save your tree as a newick file. This file can be uploaded in other tree viewers such as Figtree and Dendroscope that we will discuss next week.\n",
    "\n",
    "The numbers of the tree represent statistical support for the relationship. The more robust the relationship the closer the value will be to 1. The scale at the bottom represents sequence distance (e.g. 0.2 is 20%).\n",
    "\n",
    "## The Ribosomal Database Project\n",
    "\n",
    "The Ribosomal Database Project (RDP) provides ribosome related data services to the scientific community, including online data analysis, rRNA derived phylogenetic trees, and aligned and annotated rRNA sequences. It is well know for it is curated collection of 16S rRNA sequences.\n",
    "\n",
    "### The RDP Classifier\n",
    "\n",
    "The use of 16S rRNA massive sequencing has deeply improved the technical possibilities to describe the taxonomic composition and functionality of microbial communities. Following the reduction in DNA sequencing cost, many studies have been performed using amplicon libraries to taxonomically describe microbial communities in many different environments. The large number of sequence reads can be taxonomically assigned by comparison with taxonomically classified sequences present in dedicated databases of 16S rRNA genes, as for instance SILVA, Greengenes or the Ribosomal Database Project. In particular, one of the most popular tools used to assign sequence reads to the prokaryotic taxonomy is the Naïve Bayesian Classifier tool hosted by Ribosomal Database Project (RDP Classifier). The RDP Classifier tool uses a very fast algorithm, based on the Bayes' theorem, suitable for the analysis of large amount of sequence data. \n",
    "\n",
    "The current hierarchy model used by the RDP naïve Bayesian rRNA classifier comes from that proposed in the new phylogenetically consistent higher-order bacterial taxonomy with some minor changes for lineage with few cultivated members. From the highest to the lowest, the major formal taxonomic ranks are: domain, phylum, class, order, family, genus and species. There are occasional intermediate ranks such as “subclass” and “suborder”. Note that confidence values are assigned at each level.\n",
    "\n",
    "### Running the RDP classifier\n",
    "\n",
    "The RDP classifier tool main page can be found at http://rdp.cme.msu.edu/classifier/classifier.jsp  The interactive classifier tool on the RDP web page is best for examining a small number of sequences to obtain taxonomic assignments It only allows the upload of a single sequence file) The advantages of using this version include the fast turn-around time and the rich browsing options over the results. \n",
    "\n",
    "Download the sample input files for this tutorial from the Moodle site. The sample input file contains 7 16S rDNA sequences.\n",
    "\n",
    "To run the Classifier, select the gene \"16S rRNA\" from the drop-down menu, then you have two choices to submit the test file:\n",
    "Upload one FASTA, GenBank or EMBL formatted sequence file or Cut and paste input sequences.\n",
    "\n",
    "### Examing the results\n",
    "\n",
    "The results are shown in a taxonomic hierarchy. The hierarchy view displays all the taxon nodes with sequences assigned to them in the hierarchical order.\n",
    "\n",
    "Change \"Display Depth\" to \"3\" to display only 3 taxonomic levels in the Hierarchy View.\n",
    "\n",
    "Click the link on \"Proteobacteria\" to explore the sequences assigned to phylum \"Proteobacteria\".\n",
    "Change \"Confidence threshold\" to from default value 80% to 50%. You can see one sequence (X67228) is now assigned to genus \"Rhizobium\" instead of \"unclassified_Rhizobiales\". For each rank assignment, the Classifier automatically estimates the classification reliability using bootstrapping. A threshold of 50% is recommended for sequences shorter than 250 bp.\n",
    "\n",
    "Click \"download entire hierarchy as text file\" to download of assignment count for each taxon. To create a quick graphical view, import the text file as tab delimited into Excel and sort based on rank and then number of sequences (sort by column A then C, largest to smallest).\n",
    "\n",
    "Click link on [show assignment detail for \"Proteobacteria\" only ] to view the assignment detail. Each query sequence is listed with its name and then its classification with confidence values displayed for each taxonomic level.\n",
    "\n",
    "Save the list of sequences and assignment detail. Clicking \"download allrank result\" or \"download fixrank result\" while in assignment detail view. The \"allrank\" format outputs the results for all ranks applied for each sequence. The \"fixrank\" format only outputs the results for a list of selected ranks in the following order: domain, phylum, class, order, family and genus. In case of missing ranks in the lineage, the bootstrap value and the taxon name from the immediate lower rank will be reported. This eliminates the gaps in the lineage, but in some instance introduces non-existing taxon names and rank. "
   ]
  },
  {
   "cell_type": "code",
   "execution_count": 1,
   "metadata": {},
   "outputs": [],
   "source": [
    "# To include tree files and other images in your report\n",
    "#![My tree](phylo_tree.png) \n",
    "# Use the above format without the hash tag in Markdown"
   ]
  },
  {
   "cell_type": "markdown",
   "metadata": {},
   "source": [
    "## Exercises\n",
    "\n",
    "1. Do the phylogenetic analysis with your unknown sequence. Upload your tree file. What species does your unknown sequence share the closest common ancestor with?  What domain of life (e.g. Archaea, Bacteria, Eukarya) does your unknown sequence group with?\n",
    "\n",
    "2. Run the RDP exercise set through the RDP classified. Download the fix rank file and include it in your html report file\n",
    "\n",
    "3. Make a phylogenetic tree using the RDP data set and the online phylogeny web site above  Root the tree using the Bacillus sequence.  Upload your tree to the report.  Does the phylogenetic data agree with the classification data in that are the same taxonomic groups clustered together on the tree?"
   ]
  }
 ],
 "metadata": {
  "kernelspec": {
   "display_name": "Python 3",
   "language": "python",
   "name": "python3"
  },
  "language_info": {
   "codemirror_mode": {
    "name": "ipython",
    "version": 3
   },
   "file_extension": ".py",
   "mimetype": "text/x-python",
   "name": "python",
   "nbconvert_exporter": "python",
   "pygments_lexer": "ipython3",
   "version": "3.6.6"
  }
 },
 "nbformat": 4,
 "nbformat_minor": 1
}
