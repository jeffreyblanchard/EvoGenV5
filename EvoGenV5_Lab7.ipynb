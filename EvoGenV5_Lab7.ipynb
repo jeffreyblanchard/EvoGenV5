{
 "cells": [
  {
   "cell_type": "markdown",
   "metadata": {},
   "source": [
    "# Session 7 Dictionaries\n",
    "\n",
    "## Learning Objectives\n",
    "\n",
    "* Dictionaries"
   ]
  },
  {
   "cell_type": "markdown",
   "metadata": {},
   "source": [
    "## 7.1 Dictionaries\n",
    "\n",
    "Dictionaries consist of pairs (called items) of keys and their corresponding values.  The key-value pair concept is widely used in different programming languages and is at the heart of relational database management systems such as MySQL, PostgreSQL, Oracle and Access.  As the name applies Dictionaries are a way of storiing and looking up a particular item. \n",
    "\n",
    "The general syntax of a dictionary is as follows:\n",
    "\n",
    "<pre>\n",
    "dict = {'key1': 'value1', 'key2': 'value2'}\n",
    "</pre>\n",
    "\n",
    "Each key is separated from its value by a colon (:), the items are separated by commas, and the whole thing is enclosed in curly braces.   Keys must be unique, while values may not be. The values of a dictionary can be of any type, but the keys must be of an immutable data type such as strings, numbers, or tuples. If multiple key-values pairs are entered into a dictioinary only the last key-value pair will remain."
   ]
  },
  {
   "cell_type": "code",
   "execution_count": 1,
   "metadata": {},
   "outputs": [
    {
     "name": "stdout",
     "output_type": "stream",
     "text": [
      "{'p53': '30', 'brca1': '9'}\n"
     ]
    }
   ],
   "source": [
    "#!/usr/bin/env python\n",
    "\n",
    "# Example 7.1\n",
    "# Name: dict_keys.py\n",
    "# Description: A program to demonstrate the results of entering the same key twice\n",
    "\n",
    "expression_data = {'p53': '2', 'brca1': '9', 'p53': '30'}\n",
    "print (expression_data)"
   ]
  },
  {
   "cell_type": "markdown",
   "metadata": {},
   "source": [
    "Key-value pairs are not necessarily stored in the order that they are entered into the dictionary.  Instead of order, a dictionary uses a algorithm to identify each item’s place in the dictionary with a rapid calculation of the key’s value.  This makes for very fast searches of large dictionaries.  As with string and lists, items can be inserted, removed and searched for in dictionaries. "
   ]
  },
  {
   "cell_type": "code",
   "execution_count": 2,
   "metadata": {},
   "outputs": [
    {
     "name": "stdout",
     "output_type": "stream",
     "text": [
      "9\n",
      "dict_keys(['p53', 'brca1', 'brca2'])\n",
      "dict_values(['2', '9', '30'])\n",
      "dict_items([('p53', '2'), ('brca1', '9'), ('brca2', '30')])\n"
     ]
    }
   ],
   "source": [
    "#!/usr/bin/env python\n",
    "\n",
    "# Example 7.2 \n",
    "# Name: dict_methods.py\n",
    "# Description: A program to demonstrate some useful dictionary methods\n",
    "\n",
    "expression_data = {'p53': '2', 'brca1': '9', 'brca2': '30'}\n",
    "\n",
    "# To look up an item in the dictionary and find the value\n",
    "print (expression_data['brca1'])\n",
    "\n",
    "# To list all the keys in the dictionary\n",
    "print (expression_data.keys())\n",
    "\n",
    "# To list all the values in the dictionary\n",
    "print (expression_data.values())\n",
    "\n",
    "# To list both keys and values of the dictionary\n",
    "print (expression_data.items())"
   ]
  },
  {
   "cell_type": "code",
   "execution_count": 3,
   "metadata": {},
   "outputs": [
    {
     "ename": "KeyError",
     "evalue": "'brca5'",
     "output_type": "error",
     "traceback": [
      "\u001b[0;31m---------------------------------------------------------------------------\u001b[0m",
      "\u001b[0;31mKeyError\u001b[0m                                  Traceback (most recent call last)",
      "\u001b[0;32m<ipython-input-3-0ae4a06f115a>\u001b[0m in \u001b[0;36m<module>\u001b[0;34m()\u001b[0m\n\u001b[1;32m      9\u001b[0m \u001b[0;34m\u001b[0m\u001b[0m\n\u001b[1;32m     10\u001b[0m \u001b[0;31m# To look up an item in the dictionary and find the value\u001b[0m\u001b[0;34m\u001b[0m\u001b[0;34m\u001b[0m\u001b[0m\n\u001b[0;32m---> 11\u001b[0;31m \u001b[0mprint\u001b[0m \u001b[0;34m(\u001b[0m\u001b[0mexpression_data\u001b[0m\u001b[0;34m[\u001b[0m\u001b[0;34m'brca5'\u001b[0m\u001b[0;34m]\u001b[0m\u001b[0;34m)\u001b[0m\u001b[0;34m\u001b[0m\u001b[0m\n\u001b[0m",
      "\u001b[0;31mKeyError\u001b[0m: 'brca5'"
     ]
    }
   ],
   "source": [
    "#!/usr/bin/env python\n",
    "\n",
    "# Example 7.3 \n",
    "# Name: dict_key_error.py\n",
    "# Description: A program to demonstrate the error message produced\n",
    "#              when a key is not found\n",
    "\n",
    "expression_data = {'p53': '2', 'brca1': '9', 'brca2': '30'}\n",
    "\n",
    "# To look up an item in the dictionary and find the value\n",
    "print (expression_data['brca5'])\n"
   ]
  },
  {
   "cell_type": "code",
   "execution_count": 4,
   "metadata": {},
   "outputs": [
    {
     "name": "stdout",
     "output_type": "stream",
     "text": [
      "The gene brca5 can not be found in the dictionary\n"
     ]
    }
   ],
   "source": [
    "#!/usr/bin/env python\n",
    "\n",
    "# Example 7.4 \n",
    "# Name: dict_key_error2.py\n",
    "# Description: A program to demonstrate the error message produced\n",
    "#              when a key is not found\n",
    "\n",
    "expression_data = {'p53': '2', 'brca1': '9', 'brca2': '30'}\n",
    "\n",
    "gene = 'brca5'\n",
    "\n",
    "# \n",
    "if gene in expression_data :\n",
    "    print (expression_data[gene])\n",
    "else :\n",
    "    print ('The gene %s can not be found in the dictionary' % (gene))"
   ]
  },
  {
   "cell_type": "markdown",
   "metadata": {},
   "source": [
    "### Inserting, deleting and modifying keys and values in a dictionary"
   ]
  },
  {
   "cell_type": "code",
   "execution_count": 5,
   "metadata": {},
   "outputs": [
    {
     "name": "stdout",
     "output_type": "stream",
     "text": [
      "{'p53': 15, 'brca1': '9', 'brca2': '30'}\n",
      "{'p53': 15, 'brca1': '9', 'brca2': '30', 'fox2p': 12}\n",
      "{'p53': 15, 'brca1': '9', 'brca2': '30', 'fox2p': 12, 'level': 'high'}\n",
      "{'brca1': '9', 'brca2': '30', 'fox2p': 12, 'level': 'high'}\n",
      "4\n",
      "9\n",
      "30\n",
      "12\n",
      "high\n",
      "brca1 \t 9\n",
      "brca2 \t 30\n",
      "fox2p \t 12\n",
      "level \t high\n"
     ]
    }
   ],
   "source": [
    "#!/usr/bin/env python\n",
    "\n",
    "# Example 7.5 \n",
    "# Name: dict_modify.py\n",
    "# Description: A program to demonstrate some useful dictionary methods\n",
    "\n",
    "expression_data = {'p53': '2', 'brca1': '9', 'brca2': '30'}\n",
    "\n",
    "# update existing entry\n",
    "expression_data['p53'] = 15\n",
    "print (expression_data)\n",
    "\n",
    "# Add new entry that is a value\n",
    "expression_data['fox2p'] = 12; \n",
    "print (expression_data)\n",
    "\n",
    "# Add a new entry that is a string\n",
    "expression_data['level'] = \"high\"\n",
    "print (expression_data)\n",
    "\n",
    "# Delete an entry\n",
    "del expression_data['p53']\n",
    "print (expression_data)        \n",
    "\n",
    "# Get the length of a dictionary\n",
    "print (len(expression_data))\n",
    "\n",
    "# Iterate through a dictiontary\n",
    "for key in expression_data:\n",
    "    print (expression_data[key])\n",
    "    \n",
    "# Print all key and values\t\n",
    "for key, value in expression_data.items() :\n",
    "    print (key,'\\t', value)"
   ]
  },
  {
   "cell_type": "markdown",
   "metadata": {},
   "source": [
    "## Exercises\n",
    "\n",
    "1. Write a program that includes a dictionary of 10 names and phone numbers and prompts the user on the command line (as in the last Lab) to look up a name and then returns to the user the phone number. Return an error message if the name is not found.\n",
    " \n",
    "2. Make a dictionary with codons as the key and the single letter amino acid representation as the value.  Use this dictionary to translate the following DNA sequence 'ATGAAAAATGGTAGTGGTCGTGTTACTGAATTTCCTTTATGGTGGTCCTAAATGATAA' to the amino acids.\n",
    "\n",
    "3. Use a loop to print out the predicted protein sequence from all 3 reading frames for the following DNA sequence 'AAATTATGAAAAATGGTAGTGGTCGTGTTACTGAATTTCCTTTATGGTGGTCCTAAATGATAA'.\n",
    "\n"
   ]
  },
  {
   "cell_type": "markdown",
   "metadata": {},
   "source": [
    "* Next - <a href=\"http://nbviewer.ipython.org/github/jeffreyblanchard/EvoGenV5/blob/master/EvoGenV5_Lab8.ipynb\">Session 8 : Regular Expressions</a>\n",
    "* Previous - - <a href=\"http://nbviewer.ipython.org/github/jeffreyblanchard/EvoGenV5/blob/master/EvoGenV5_Lab6.ipynb\">Session 6 : Random Mutations</a> "
   ]
  }
 ],
 "metadata": {
  "kernelspec": {
   "display_name": "Python 3",
   "language": "python",
   "name": "python3"
  },
  "language_info": {
   "codemirror_mode": {
    "name": "ipython",
    "version": 3
   },
   "file_extension": ".py",
   "mimetype": "text/x-python",
   "name": "python",
   "nbconvert_exporter": "python",
   "pygments_lexer": "ipython3",
   "version": "3.6.6"
  }
 },
 "nbformat": 4,
 "nbformat_minor": 1
}
