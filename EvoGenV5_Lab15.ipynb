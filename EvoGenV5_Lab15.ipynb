{
 "cells": [
  {
   "cell_type": "markdown",
   "metadata": {},
   "source": [
    "# Lab 15 : Python modules for manipulating files and directories\n",
    "\n",
    "## Learning Objectives\n",
    "\n",
    "* os module\n",
    "* shutil module\n",
    "* glob module\n",
    "* gzip module"
   ]
  },
  {
   "cell_type": "markdown",
   "metadata": {},
   "source": [
    "## 15.1 The Python os module\n",
    "\n",
    "In Session 1 we learned to manipulate files and directories on your native operating system using terminal and Unix commands (Ubuntu and OS X) or the Command Prompt and MS-DOS (Windows). The functions that the Python OS module provides allows you to interface with the underlying operating system that Python is running on – be that Windows, Mac or Linux. \n",
    "The Python OS module also provides a range of useful methods to manipulate files and directories. To use this module you need to import it first and then call any related functions."
   ]
  },
  {
   "cell_type": "code",
   "execution_count": 42,
   "metadata": {
    "scrolled": true
   },
   "outputs": [
    {
     "name": "stdout",
     "output_type": "stream",
     "text": [
      "/home/jlb/jlb@umass.edu/GoEcology/Courses/597-EvoGen/2018/labs\n",
      "/home/jlb/jlb@umass.edu/GoEcology/Courses/597-EvoGen/2018/labs/test\n",
      "['example.txt']\n",
      "/home/jlb/jlb@umass.edu/GoEcology/Courses/597-EvoGen/2018/labs\n"
     ]
    },
    {
     "data": {
      "text/plain": [
       "0"
      ]
     },
     "execution_count": 42,
     "metadata": {},
     "output_type": "execute_result"
    }
   ],
   "source": [
    "#!/usr/bin/env python\n",
    "\n",
    "# Example 15.1\n",
    "# This is a not meant to be run as a program.  \n",
    "# Either use the ipython interpreter or select and run commands in Spyder as in Session 9\n",
    "\n",
    "import os\n",
    "\n",
    "# To the path of your current working directory\n",
    "os.getcwd()\n",
    "print(os.getcwd())\n",
    "#  Windows or Anaconda command prompt = cd\n",
    "#  Apple OSX or Linux = pwd\n",
    "\n",
    "# Create a directory \"test\"\n",
    "os.mkdir(\"test\")\n",
    "#  Windows or Anaconda command prompt = mkdir\n",
    "#  Apple OSX or Linux = mkdir\n",
    "\n",
    "# Changing into that directory\n",
    "os.chdir(\"test\")\n",
    "#  Windows or Anaconda command prompt = chdir\n",
    "#  Apple OSX or Linux = cd\n",
    "\n",
    "print(os.getcwd())\n",
    "\n",
    "# create file\n",
    "outfile = open(\"example.txt\", \"w\")\n",
    "outfile.write('example text in my example file')\n",
    "outfile.close()\n",
    "\n",
    "# get a list of directory contents (files and directories)\n",
    "print(os.listdir('.'))\n",
    "#  Windows or Anaconda command prompt = dir\n",
    "#  Apple OSX or Linux = ls\n",
    "\n",
    "# get a list of directory contents (files and directories)\n",
    "os.remove('example.txt')\n",
    "#  Windows or Anaconda command prompt = del\n",
    "#  Apple OSX or Linux = rm\n",
    "\n",
    "# To move up one directory\n",
    "os.chdir(\"..\")\n",
    "#  Windows or Anaconda command prompt = chdir ..\n",
    "#  Apple OSX or Linux = cd ..\n",
    "\n",
    "# Delete/Remove \"test\" directory. Note the directory must be empty\n",
    "os.rmdir(\"test\")\n",
    "#  Windows or Anaconda command prompt = del \n",
    "#  Apple OSX or Linux = rm\n",
    "# To remove a directory and all of its contents use shutil.rmtree() - remember to import shutil\n",
    "\n",
    "print(os.getcwd())\n",
    "\n",
    "os.system(\"mkdir TEST\")"
   ]
  },
  {
   "cell_type": "markdown",
   "metadata": {},
   "source": [
    "I try to keep this class operating system INDEPENDENT, but if you want to directly interact with the terminal in OSX or Linux or the command prompt in Windows use the os.system() command.  For example os.system(\"makedir TEST\") to make a new directory"
   ]
  },
  {
   "cell_type": "markdown",
   "metadata": {},
   "source": [
    "As we have seen a path points to a file system location by following the directory tree hierarchy expressed in a string of characters in which path components, separated by a delimiting character, represent each directory. The delimiting character is most commonly the slash (\"/\") in Unix or OS X and the backslash character (\"\\\") in Windows.  "
   ]
  },
  {
   "cell_type": "code",
   "execution_count": 7,
   "metadata": {},
   "outputs": [
    {
     "name": "stdout",
     "output_type": "stream",
     "text": [
      "/home/jlb/jlb@umass.edu/GoEcology/Courses/597-EvoGen/2018/labs\n",
      "['sub_directory2.file2.faa', 'sub_directory2.file3.gbk', 'sub_directory2.file1.txt']\n",
      "['sub_directory3.file1.txt', 'sub_directory3.file3.gbk', 'sub_directory3.file2.faa']\n",
      "['sub_directory1.file1.txt', 'sub_directory1.file2.faa', 'sub_directory1.file3.gbk']\n",
      "/home/jlb/jlb@umass.edu/GoEcology/Courses/597-EvoGen/2018/labs/main_directory\n",
      "['sub_directory2', 'sub_directory3', 'sub_directory1']\n",
      "/home/jlb/jlb@umass.edu/GoEcology/Courses/597-EvoGen/2018/labs\n"
     ]
    }
   ],
   "source": [
    "#!/usr/bin/env python\n",
    "\n",
    "# Example 15.2\n",
    "#\n",
    "# A program for making example directories and files\n",
    "# The output of this program will be a set of directories and files\n",
    "\n",
    "# Usage: python make_example_directories.py\n",
    "\n",
    "\n",
    "import os\n",
    "\n",
    "print(os.getcwd())\n",
    "\n",
    "# make the main directory\n",
    "os.mkdir(\"main_directory\")\n",
    "\n",
    "# move into the main directory\n",
    "os.chdir(\"main_directory\")\n",
    "\n",
    "# make the sub directories\n",
    "os.mkdir(\"sub_directory1\")\n",
    "os.mkdir(\"sub_directory2\")\n",
    "os.mkdir(\"sub_directory3\")\n",
    "\n",
    "# get a list of the subdirectories\n",
    "list_sub_dir = os.listdir('.')\n",
    "\n",
    "# make a set of files with different extensions in each sub directory\n",
    "for sub_dir in list_sub_dir :\n",
    "    os.chdir(sub_dir)\n",
    "    outfilename1 = sub_dir + \".file1.txt\"\n",
    "    outfile1 = open(outfilename1, 'w')\n",
    "    outfile1.write ('text from %s\\n' % (outfilename1))\n",
    "    outfilename2 = sub_dir + \".file2.faa\"\n",
    "    outfile2 = open(outfilename2, 'w')\n",
    "    outfile2.write ('protein from %s\\n' % (outfilename2))\n",
    "    outfilename3 = sub_dir + \".file3.gbk\"\n",
    "    outfile3 = open(outfilename3, 'w')\n",
    "    outfile3.write ('Genbank Record from %s\\n' % (outfilename3))\n",
    "    print(os.listdir())\n",
    "    os.chdir(\"..\")\n",
    "\n",
    "# close the files\n",
    "outfile1.close()\n",
    "outfile2.close()\n",
    "outfile3.close()\n",
    "\n",
    "# print path of working directory and sub directories\n",
    "print(os.getcwd())\n",
    "print(os.listdir())\n",
    "\n",
    "# At the moment main_directory is the current working directory\n",
    "# Move back to your working directory\n",
    "# If you are funning this in Juptyer notebooks and do not go back to your original working directory\n",
    "# Then main_directory would be your starting working directory.\n",
    "\n",
    "os.chdir(\"..\")\n",
    "print(os.getcwd())\n"
   ]
  },
  {
   "cell_type": "markdown",
   "metadata": {},
   "source": [
    "## The Python shutil module\n",
    "\n",
    "The shutil module offers operations for working files and collections of files. In particular, functions are provided which support file copying and removal. For operations on individual files. It overlaps in function with some of the os module, but I use it for moving and copying files.\n"
   ]
  },
  {
   "cell_type": "code",
   "execution_count": 48,
   "metadata": {},
   "outputs": [
    {
     "data": {
      "text/plain": [
       "'test/example.txt'"
      ]
     },
     "execution_count": 48,
     "metadata": {},
     "output_type": "execute_result"
    }
   ],
   "source": [
    "#!/usr/bin/env python\n",
    "\n",
    "# Example 15.3\n",
    "#\n",
    "# A program for moving files\n",
    "\n",
    "# Usage: python move_file.py\n",
    "\n",
    "import os\n",
    "import shutil\n",
    "\n",
    "outfile = open(\"example.txt\", \"w\")\n",
    "outfile.write('example text in my example file')\n",
    "outfile.close()\n",
    "\n",
    "os.mkdir('test')\n",
    "\n",
    "shutil.move('example.txt','test/example.txt' )\n",
    "# remember the slashes go in the other direction on Windows"
   ]
  },
  {
   "cell_type": "markdown",
   "metadata": {},
   "source": [
    "## 11.3 The Python glob module\n",
    "\n",
    "Another useful tool in getting files in a directory is glob.  The glob module finds all the pathnames matching a specified pattern according to the rules used by the Unix shell. No tilde expansion is done, but \\*, ?, and character ranges expressed with [ ] will be correctly matched."
   ]
  },
  {
   "cell_type": "code",
   "execution_count": 5,
   "metadata": {},
   "outputs": [
    {
     "name": "stdout",
     "output_type": "stream",
     "text": [
      "['DNA_results.txt', 'GitHub.txt', 'id.txt', 'p53_mRNA_withU.txt', 'all_gbk_files.txt', 'Tree_of_Life_Core_Sequences.txt', 'RDP_exercise_set.txt', 'p53_mRNA.txt', 'id_gut.txt', 'GCF_000018685.1_ASM1868.faa.pfam03319.results.txt', 'lab3_and_lab4_exercise_sequences.txt', 'RDP_example_set.txt', 'unknown_sequence.txt']\n"
     ]
    }
   ],
   "source": [
    "#!/usr/bin/env python\n",
    "\n",
    "# Example 15.4\n",
    "# glob\n",
    "\n",
    "# Usage: python myglob.py\n",
    "\n",
    "import glob\n",
    "\n",
    "txt_files = glob.glob('*.txt')\n",
    "\n",
    "print (txt_files)"
   ]
  },
  {
   "cell_type": "markdown",
   "metadata": {},
   "source": [
    "These results are the ones in my working directory. Note the output of the above program will depend on what .txt files you have in your working directory. \n",
    "\n",
    "Below is a program that will make a set of directories and files for testing your knowledge of the above commands and your code in the examples and exercises"
   ]
  },
  {
   "cell_type": "code",
   "execution_count": 8,
   "metadata": {},
   "outputs": [
    {
     "name": "stdout",
     "output_type": "stream",
     "text": [
      "protein from sub_directory2.file2.faa\n",
      "\n",
      "protein from sub_directory3.file2.faa\n",
      "\n",
      "protein from sub_directory1.file2.faa\n",
      "\n"
     ]
    }
   ],
   "source": [
    "#!/usr/bin/env python\n",
    "\n",
    "# Example 15.5\n",
    "\n",
    "# This example traverses the directory structure getting the contents of all GenBank record files (.gbk)\n",
    "# This program assumes the directory structure from make_example_directories.py\n",
    "# It should be run from the same directory that the main directory is in\n",
    "\n",
    "# Usage: python traverse_directories.py\n",
    "\n",
    "\n",
    "import os\n",
    "import glob\n",
    "\n",
    "outfile1 = open('all_gbk_files.txt', 'w')\n",
    "\n",
    "# move into the main directory\n",
    "os.chdir(\"main_directory\")\n",
    "\n",
    "# get a list of the subdirectories\n",
    "list_sub_dir = os.listdir('.')\n",
    "\n",
    "# go into each sub directory and get the contexts of the gbk files\n",
    "for sub_dir in list_sub_dir :\n",
    "    os.chdir(sub_dir)\n",
    "    gbk_files = glob.glob('*.faa')\n",
    "    for file in gbk_files :\n",
    "        ind_gbk = open(file, 'r')\n",
    "        file_contents = ind_gbk.read()\n",
    "        outfile1.write(file_contents)\n",
    "        # Also you can print to screen\n",
    "        print(file_contents)\n",
    "    os.chdir(\"..\")\n",
    "\n",
    "# Move back to your working directory\n",
    "os.chdir(\"..\")\n",
    "# close the files\n",
    "outfile1.close()\n",
    "\n"
   ]
  },
  {
   "cell_type": "markdown",
   "metadata": {},
   "source": [
    "## The Python gzip module\n"
   ]
  },
  {
   "cell_type": "code",
   "execution_count": 41,
   "metadata": {},
   "outputs": [],
   "source": [
    "#!/usr/bin/env python\n",
    "\n",
    "# Example 15.6\n",
    "\n",
    "# This example reads a compressed .tar.gz file and writes the uncompressed file\n",
    "\n",
    "# Usage: python unzippit.py\n",
    "\n",
    "import gzip\n",
    "\n",
    "infile = gzip.open('GCF_000018685.1_ASM1868v1_protein.faa.gz', 'rb')\n",
    "outfile = open('GCF_000018685.1_ASM1868v1_protein.faa', 'wb')\n",
    "outfile.write(infile.read())\n",
    "\n",
    "infile.close()\n",
    "outfile.close()"
   ]
  },
  {
   "cell_type": "code",
   "execution_count": 39,
   "metadata": {},
   "outputs": [],
   "source": [
    "#!/usr/bin/env python\n",
    "\n",
    "# Example 15.7\n",
    "\n",
    "# This example reads all compressed .tar.gz files and writes the uncompressed files\n",
    "\n",
    "# Usage: python unzippit.py\n",
    "\n",
    "\n",
    "import os\n",
    "import glob\n",
    "import gzip\n",
    "\n",
    "tar_files = glob.glob('*(copy).faa.gz')\n",
    "for file in tar_files :\n",
    "        out_filename = file.replace('.gz', '')\n",
    "        infile = gzip.open(file, 'rb')\n",
    "        outfile = open(out_filename, 'wb')\n",
    "        outfile.write(infile.read())\n",
    "        infile.close()\n",
    "        outfile.close()\n",
    "        # if you want to delete the .gz file\n",
    "        # os.remove(file)"
   ]
  },
  {
   "cell_type": "markdown",
   "metadata": {},
   "source": [
    "## Exercises\n",
    "\n",
    "1. Create a directory(folder) on your computer called NCBI_proteomes.  Go to the NCBI ftp site contain files for complete bacteria genomes ftp://ftp.ncbi.nih.gov/genomes/Bacteria/  Download the .protein.faa.gz files for 3 proteomes into the NCBI_proteomes directory.  Write a program that moves into the NCBI_proteomes directory and prints the name of the files in the directory.\n",
    "\n",
    "2. Write a program that first moves into the NCBI_proteomes directory and then (using glob) decompresses all three files and deletes the original .gz file (as in example). As an output print the final contents of the NCBI_proteome directory (this should be 3 .faa files). \n",
    "\n",
    "3. Write a program that moves into the NCBI_Genomes directory and creates 3 subdirectories each with the name of the proteome without the .protein.faa (e.g. GCF_000018685.1_ASM1868v1_protein.faa should be GCF_000018685.1_ASM1868v1). Then move the corresponding .protein.faa file into that directory. You should now have a directory NCBI_proteomes that contains three subdirectories (each with the name of the protein file) and in each of the subdirectories one protein file. As output print the final contents of the NCBI_proteome directory."
   ]
  },
  {
   "cell_type": "markdown",
   "metadata": {},
   "source": [
    "* Next - <a href=\"http://nbviewer.ipython.org/github/jeffreyblanchard/EvoGenV5/blob/master/EvoGenV5_Lab16.ipynb\">Lab 16 : Tree Visualization</a>\n",
    "* Previous - <a href=\"http://nbviewer.ipython.org/github/jeffreyblanchard/EvoGenV5/blob/master/EvoGenV5_Lab14.ipynb\">Lab 14 : Sequence Alignment and Phylogenetic Analysis</a> "
   ]
  }
 ],
 "metadata": {
  "kernelspec": {
   "display_name": "Python 3",
   "language": "python",
   "name": "python3"
  },
  "language_info": {
   "codemirror_mode": {
    "name": "ipython",
    "version": 3
   },
   "file_extension": ".py",
   "mimetype": "text/x-python",
   "name": "python",
   "nbconvert_exporter": "python",
   "pygments_lexer": "ipython3",
   "version": "3.6.6"
  }
 },
 "nbformat": 4,
 "nbformat_minor": 1
}
