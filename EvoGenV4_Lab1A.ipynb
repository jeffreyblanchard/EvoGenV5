{
 "cells": [
  {
   "cell_type": "markdown",
   "metadata": {},
   "source": [
    "## Getting Started Using UNIX Commands for Linux and OSX\n",
    "\n",
    "\"Terminal\" provides the gateway to running UNIX commands. On Macs the \"Terminal\" application can be found under Applications -> Utilities. Open \"Terminal\" and a UNIX shell appears. Now you are in the command line environment that we will work in for most of this class. By typing \"ls\" at the prompt ($)"
   ]
  },
  {
   "cell_type": "code",
   "execution_count": null,
   "metadata": {
    "collapsed": true
   },
   "outputs": [],
   "source": [
    "ls"
   ]
  },
  {
   "cell_type": "markdown",
   "metadata": {},
   "source": [
    "all the files in the home directory all listed that are seen when using \"Finder\". To see all files in the Application directory at the prompt ($) type"
   ]
  },
  {
   "cell_type": "code",
   "execution_count": null,
   "metadata": {
    "collapsed": true
   },
   "outputs": [],
   "source": [
    "cd /Applications\n",
    "ls\n"
   ]
  },
  {
   "cell_type": "markdown",
   "metadata": {},
   "source": [
    "Thus all the files that are visible through \"Finder\" are also visible to the Unix shell. Actually there are even more files that can be accessed through the Unix shell, but we will not go there until later in the class. Type"
   ]
  },
  {
   "cell_type": "code",
   "execution_count": null,
   "metadata": {
    "collapsed": true
   },
   "outputs": [],
   "source": [
    "cd"
   ]
  },
  {
   "cell_type": "markdown",
   "metadata": {},
   "source": [
    "to go back to your home directory. Type"
   ]
  },
  {
   "cell_type": "code",
   "execution_count": null,
   "metadata": {
    "collapsed": true
   },
   "outputs": [],
   "source": [
    "mkdir YOURNAME"
   ]
  },
  {
   "cell_type": "markdown",
   "metadata": {},
   "source": [
    "To make a directory to work in. Then type"
   ]
  },
  {
   "cell_type": "code",
   "execution_count": null,
   "metadata": {
    "collapsed": true
   },
   "outputs": [],
   "source": [
    "cd YOURNAME"
   ]
  },
  {
   "cell_type": "markdown",
   "metadata": {},
   "source": [
    "Make a file using yeditor on your desktop called readme.txt To Display the contents of a file one screenful at a time"
   ]
  },
  {
   "cell_type": "code",
   "execution_count": null,
   "metadata": {
    "collapsed": true
   },
   "outputs": [],
   "source": [
    "less readme.txt"
   ]
  },
  {
   "cell_type": "markdown",
   "metadata": {},
   "source": [
    "Hit space to scroll through the pages, return to scroll one line at a time and q to quit.\n",
    "\n",
    "***Shortcut: You can start typing the file name and use tab to fill out the file name\n",
    "\n",
    "To make a copy of a file"
   ]
  },
  {
   "cell_type": "code",
   "execution_count": null,
   "metadata": {
    "collapsed": true
   },
   "outputs": [],
   "source": [
    "cp readme.txt useless.txt"
   ]
  },
  {
   "cell_type": "markdown",
   "metadata": {},
   "source": [
    "To delete a file"
   ]
  },
  {
   "cell_type": "code",
   "execution_count": null,
   "metadata": {
    "collapsed": true
   },
   "outputs": [],
   "source": [
    "rm useless.txt"
   ]
  },
  {
   "cell_type": "markdown",
   "metadata": {},
   "source": [
    "To move files to a new directory"
   ]
  },
  {
   "cell_type": "code",
   "execution_count": null,
   "metadata": {
    "collapsed": true
   },
   "outputs": [],
   "source": [
    "mv readme.txt Bioinformatics"
   ]
  },
  {
   "cell_type": "markdown",
   "metadata": {},
   "source": [
    "You can also apply the cp, rm, and mc commands to several files (or directories) at once using wildcards."
   ]
  },
  {
   "cell_type": "code",
   "execution_count": null,
   "metadata": {
    "collapsed": true
   },
   "outputs": [],
   "source": [
    "rm *.txt"
   ]
  },
  {
   "cell_type": "markdown",
   "metadata": {},
   "source": [
    "There are many nice on line tutorials available for Unix. The Software Carpentry group recently put on a 2-day workshop at UMass that including a <a href=\"https://github.com/swcarpentry/boot-camps/blob/2013-05-umass/shell/Readme.md\" target=\"_blank\">tutorial on using the Shell</a>. Also check out <a href=\"http://www.linuxcommand.org/lc3_learning_the_shell.php\" target=\"_blank\">Learning the shell</a>. There is a nice quick guide on shell commands by the European Molecular Biology Network <a href=\"http://www.embnet.org/quickguides/quick-guide-unix\" target=\"_blank\">Unix Quick Guide</a>."
   ]
  },
  {
   "cell_type": "markdown",
   "metadata": {},
   "source": [
    "### Writing a Python Program\n",
    "\n",
    "Open your text editor. Save the file as \"hello.py\" in the directory you created above with your name. Type in your text editor "
   ]
  },
  {
   "cell_type": "code",
   "execution_count": null,
   "metadata": {
    "collapsed": true
   },
   "outputs": [],
   "source": [
    "print ('Hello World!  I am writing computer programs.')"
   ]
  },
  {
   "cell_type": "markdown",
   "metadata": {},
   "source": [
    "Save the file in your home directory. Then go to the \"Terminal\". Make sure you are in the same directory where \"hello.pl\" was saved by typing"
   ]
  },
  {
   "cell_type": "code",
   "execution_count": null,
   "metadata": {
    "collapsed": true
   },
   "outputs": [],
   "source": [
    "ls"
   ]
  },
  {
   "cell_type": "markdown",
   "metadata": {},
   "source": [
    "\"hello.py\" should be listed. Now to run the program type"
   ]
  },
  {
   "cell_type": "code",
   "execution_count": null,
   "metadata": {
    "collapsed": true
   },
   "outputs": [],
   "source": [
    "python hello.py"
   ]
  },
  {
   "cell_type": "markdown",
   "metadata": {},
   "source": [
    "Walla! You are a programmer."
   ]
  },
  {
   "cell_type": "raw",
   "metadata": {},
   "source": [
    "## Jupyter Notebooks\n",
    "\n",
    "You will turn in your assignments using Jupyter Notebooks. <a href=\"http://jupyter-notebook.readthedocs.org/en/latest/notebook.html\" target=\"_blank\">Jupyter notebooks</a> are a good way to share a work flow or start coding. You are already familar with the look of these notebooks since I have been using them for developing the tutorials for this class. Notebooks may be exported to HTML, LaTeX, PDF, and slide shows.\n",
    "\n",
    "Most of you should already have Jupyter installed, since it comes with Anaconda. Move into your Bioinformatics directory (or other working directory), the type in either the terminal (OS X and other unix systems) or the command interpreter/prompt (Anaconda).\n",
    "\n",
    "jupyter notebook\n",
    "\n",
    "The jupyter dashboard should appear in your browser (e.g. Firefox or Chrome). Then click on new > Python (default) to create a new notebook. \n",
    "\n",
    "Jupyter notebooks can be used to write instructions and notes using a simplified html language called Markdown. Here is a <a href=\"http://jupyter-notebook.readthedocs.org/en/latest/notebook.html\" target=\"_blank\">Markdown</a> cheat sheet with the basic syntax. There are also code blocks that can be used to write code and the code can be run from within the notebook. There is a box in the menu bar that says Code. Change this to Markdown. Type the Lab and exercise number in the cell along with any other comments.\n",
    "\n",
    "The create a new cell click on the + button. You can paste your code into the box then run the code by click on the run button (triangle). You should see the result of your code below the box (or an error message) if it doesn't run correctly.\n",
    "\n",
    "Click on the floppy disk icon to save your work.  This will create a *.ipynb file. You need to turn in your results as an .html file. Do this by selecting File > Download As > HTML and you should see a .html file in your working directory. \n",
    "\n",
    "## What to turn in?\n",
    "\n",
    "The primary objective today was to get you set up and working on your computer using a text editor, Python and Jupyter.  Once you have finished the above exercises\n",
    "\n",
    "* Create a Juptyer notebook with the lab number and your name\n",
    "* Add the code from hello.py program, e.g print('hello), and run it so that the results show\n",
    "* Create an html file of your notebook\n",
    "* Upload the html file to Moodle"
   ]
  },
  {
   "cell_type": "markdown",
   "metadata": {},
   "source": [
    "* Next - <a href=\"https://github.com/jeffreyblanchard/EvoGenV4/blob/master/EvoGenV4_Lab2.ipynb\">Session 2 : Sequences and Strings</a>\n",
    "* Previous - <a href=\"https://github.com/jeffreyblanchard/EvoGenV4/blob/master/EvoGenV4_Lab1.ipynb\">Session 1 : Computational Frameworks for Evolutionary Genetics</a> "
   ]
  }
 ],
 "metadata": {
  "kernelspec": {
   "display_name": "Python 3",
   "language": "python",
   "name": "python3"
  },
  "language_info": {
   "codemirror_mode": {
    "name": "ipython",
    "version": 3
   },
   "file_extension": ".py",
   "mimetype": "text/x-python",
   "name": "python",
   "nbconvert_exporter": "python",
   "pygments_lexer": "ipython3",
   "version": "3.5.3"
  }
 },
 "nbformat": 4,
 "nbformat_minor": 1
}
