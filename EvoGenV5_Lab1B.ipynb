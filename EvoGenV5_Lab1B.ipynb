{
 "cells": [
  {
   "cell_type": "markdown",
   "metadata": {},
   "source": [
    "## Getting Started Using MS-DOS Commands for Windows\n",
    "\n",
    "The Command Interpreter/Prompt tool provides the gateway to running MS-DOS commands on Microsoft Windows. Anaconda includes it's own version of the Command Prompt tool. Use this version instead of the Microsoft version. Open the Anaconda with the Windows Start menu and select \"Anaconda (64-bit\") command prompt."
   ]
  },
  {
   "cell_type": "code",
   "execution_count": null,
   "metadata": {
    "collapsed": true
   },
   "outputs": [],
   "source": [
    "C:\\Documents and Settings\\lab>"
   ]
  },
  {
   "cell_type": "markdown",
   "metadata": {},
   "source": [
    "By typing \"dir\" at the prompt (>)"
   ]
  },
  {
   "cell_type": "code",
   "execution_count": null,
   "metadata": {
    "collapsed": true
   },
   "outputs": [],
   "source": [
    "dir"
   ]
  },
  {
   "cell_type": "markdown",
   "metadata": {},
   "source": [
    "all the files in the home directory all listed that are seen when using \"Windows Viewer\". For example click on My Compututer -> Local Disk (C:) -> Documents and Settings -> lab. You should be able to see the same list of files that were list when you typed the dir command above. Now move into the Desktop folder."
   ]
  },
  {
   "cell_type": "code",
   "execution_count": null,
   "metadata": {
    "collapsed": true
   },
   "outputs": [],
   "source": [
    "chdir Desktop"
   ]
  },
  {
   "cell_type": "markdown",
   "metadata": {},
   "source": [
    "Create a folder on the desktop called \"bioinformatics\" and then in the terminal move into that directory."
   ]
  },
  {
   "cell_type": "code",
   "execution_count": null,
   "metadata": {
    "collapsed": true
   },
   "outputs": [],
   "source": [
    "mkdir Bioinformatics\n",
    "chdir Bioinformatics"
   ]
  },
  {
   "cell_type": "markdown",
   "metadata": {},
   "source": [
    "You can tell what directory you are in by typing"
   ]
  },
  {
   "cell_type": "code",
   "execution_count": null,
   "metadata": {
    "collapsed": true
   },
   "outputs": [],
   "source": [
    "cd"
   ]
  },
  {
   "cell_type": "markdown",
   "metadata": {},
   "source": [
    "If you want to move up a directory type"
   ]
  },
  {
   "cell_type": "code",
   "execution_count": null,
   "metadata": {
    "collapsed": true
   },
   "outputs": [],
   "source": [
    "chdir .."
   ]
  },
  {
   "cell_type": "markdown",
   "metadata": {},
   "source": [
    "If you want to go back to your directory home type"
   ]
  },
  {
   "cell_type": "code",
   "execution_count": null,
   "metadata": {
    "collapsed": true
   },
   "outputs": [],
   "source": [
    "chdir"
   ]
  },
  {
   "cell_type": "markdown",
   "metadata": {},
   "source": [
    "Make a file using your text editor (e.g. Notepad ++) on your desktop called readme.txt To Display the contents of a file one screenful at a time"
   ]
  },
  {
   "cell_type": "code",
   "execution_count": null,
   "metadata": {
    "collapsed": true
   },
   "outputs": [],
   "source": [
    "more readme.txt"
   ]
  },
  {
   "cell_type": "markdown",
   "metadata": {},
   "source": [
    "Hit space to scroll through the pages, return to scroll one line at a time and q to quit.\n",
    "\n",
    "***Shortcut: You can start typing the file name and use tab to fill out the file name\n",
    "\n",
    "To make a copy of a file"
   ]
  },
  {
   "cell_type": "code",
   "execution_count": null,
   "metadata": {
    "collapsed": true
   },
   "outputs": [],
   "source": [
    "copy readme.txt useless.txt"
   ]
  },
  {
   "cell_type": "markdown",
   "metadata": {},
   "source": [
    "To delete a file"
   ]
  },
  {
   "cell_type": "code",
   "execution_count": null,
   "metadata": {
    "collapsed": true
   },
   "outputs": [],
   "source": [
    "del useless.txt"
   ]
  },
  {
   "cell_type": "markdown",
   "metadata": {},
   "source": [
    "To move files to a new directory"
   ]
  },
  {
   "cell_type": "code",
   "execution_count": null,
   "metadata": {
    "collapsed": true
   },
   "outputs": [],
   "source": [
    "move readme.txt Bioinformatics"
   ]
  },
  {
   "cell_type": "markdown",
   "metadata": {},
   "source": [
    "You can also apply the copy, del, and move commands to several files (or directories) at once using wildcards."
   ]
  },
  {
   "cell_type": "code",
   "execution_count": null,
   "metadata": {
    "collapsed": true
   },
   "outputs": [],
   "source": [
    "del *.txt"
   ]
  },
  {
   "cell_type": "markdown",
   "metadata": {},
   "source": [
    "### Writing a Python Program\n",
    "\n",
    "Open your text editor. Save the file as \"hello.py\" in the directory you created above with your name. Type"
   ]
  },
  {
   "cell_type": "code",
   "execution_count": 1,
   "metadata": {},
   "outputs": [
    {
     "name": "stdout",
     "output_type": "stream",
     "text": [
      "Hello World!  I am writing computer programs.\n"
     ]
    }
   ],
   "source": [
    "print ('Hello World!  I am writing computer programs.')"
   ]
  },
  {
   "cell_type": "markdown",
   "metadata": {},
   "source": [
    "Save the file in your home directory. Then go to the command prompt. Make sure you are in the same directory where \"hello.pl\" was saved by typing"
   ]
  },
  {
   "cell_type": "code",
   "execution_count": null,
   "metadata": {
    "collapsed": true
   },
   "outputs": [],
   "source": [
    "dir"
   ]
  },
  {
   "cell_type": "markdown",
   "metadata": {},
   "source": [
    "\"hello.py\" should be listed. Now to run the program type"
   ]
  },
  {
   "cell_type": "code",
   "execution_count": null,
   "metadata": {
    "collapsed": true
   },
   "outputs": [],
   "source": [
    "python hello.py"
   ]
  },
  {
   "cell_type": "markdown",
   "metadata": {},
   "source": [
    "Walla! You are a programmer."
   ]
  },
  {
   "cell_type": "markdown",
   "metadata": {},
   "source": [
    "## Jupyter Notebooks\n",
    "\n",
    "You will turn in your assignments using Jupyter Notebooks. <a href=\"http://jupyter-notebook.readthedocs.org/en/latest/notebook.html\" target=\"_blank\">Jupyter notebooks</a> are a good way to share a work flow or start coding. You are already familar with the look of these notebooks since I have been using them for developing the tutorials for this class. Notebooks may be exported to HTML, LaTeX, PDF, and slide shows.\n",
    "\n",
    "Most of you should already have Jupyter installed, since it comes with Anaconda. Move into your Bioinformatics directory (or other working directory), the type in either the terminal (OS X and other unix systems) or the command interpreter/prompt (Anaconda)."
   ]
  },
  {
   "cell_type": "code",
   "execution_count": null,
   "metadata": {},
   "outputs": [],
   "source": [
    "jupyter notebook"
   ]
  },
  {
   "cell_type": "markdown",
   "metadata": {},
   "source": [
    "The jupyter dashboard should appear in your browser (e.g. Firefox or Chrome). Then click on new > Python (default) to create a new notebook. \n",
    "\n",
    "Jupyter notebooks can be used to write instructions and notes using a simplified html language called Markdown. Here is a <a href=\"http://jupyter-notebook.readthedocs.org/en/latest/notebook.html\" target=\"_blank\">Markdown</a> cheat sheet with the basic syntax. There are also code blocks that can be used to write code and the code can be run from within the notebook. There is a box in the menu bar that says Code. Change this to Markdown. Type the Lab and exercise number in the cell along with any other comments.\n",
    "\n",
    "The create a new cell click on the + button. You can paste your code into the box then run the code by click on the run button (triangle). You should see the result of your code below the box (or an error message) if it doesn't run correctly.\n",
    "\n",
    "Click on the floppy disk icon to save your work.  This will create a *.ipynb file. You need to turn in your results as an .html file. Do this by selecting File > Download As > HTML and you should see a .html file in your working directory. "
   ]
  },
  {
   "cell_type": "markdown",
   "metadata": {},
   "source": [
    "## What to turn in?\n",
    "\n",
    "The primary objective today was to get you set up and working on your computer using a text editor, Python and Jupyter.  Once you have finished the above exercises\n",
    "\n",
    "* Create a Juptyer notebook with the lab number and your name\n",
    "* Add the code from hello.py program, e.g print('hello), and run it so that the results show\n",
    "* Create an html file of your notebook\n",
    "* Upload the html file to Moodle"
   ]
  },
  {
   "cell_type": "markdown",
   "metadata": {},
   "source": [
    "* Next - <a href=\"https://github.com/jeffreyblanchard/EvoGenV4/blob/master/EvoGenV5_Lab2.ipynb\">Session 2 : Sequences and Strings</a>\n",
    "* Previous - <a href=\"https://github.com/jeffreyblanchard/EvoGenV4/blob/master/EvoGenV5_Lab1.ipynb\">Session 1 : Computational Frameworks for Evolutionary Genetics</a> "
   ]
  }
 ],
 "metadata": {
  "kernelspec": {
   "display_name": "Python 3",
   "language": "python",
   "name": "python3"
  },
  "language_info": {
   "codemirror_mode": {
    "name": "ipython",
    "version": 3
   },
   "file_extension": ".py",
   "mimetype": "text/x-python",
   "name": "python",
   "nbconvert_exporter": "python",
   "pygments_lexer": "ipython3",
   "version": "3.6.6"
  }
 },
 "nbformat": 4,
 "nbformat_minor": 1
}
