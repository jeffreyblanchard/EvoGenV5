{
 "cells": [
  {
   "cell_type": "markdown",
   "metadata": {},
   "source": [
    "# Lab 10 : Input, Output and Working with Fasta Files\n",
    "\n",
    "## Learning Objectives\n",
    "\n",
    "* Reading files\n",
    "* Working with fasta files\n",
    "* Writing files\n",
    "* Reading tab and csv files"
   ]
  },
  {
   "cell_type": "markdown",
   "metadata": {},
   "source": [
    "## 10.1  Reading files into a program as a string\n",
    "\n",
    "\n",
    "### Opening filehandles\n",
    "\n",
    "A filehandle is an object that controls the stream of information between your program and a file stored somewhere on the computer. Filehandles are not filenames, and they are not the files themselves. They are a tool that your program uses to interact with files.  We create filehandles in the simplest sense with the open() command.  The read() method of the filehandle puts the contents of the file into a single string variable and then we can do some calculations or manipulations on the text file.  Copy and paste the mRNA sequence for the human p53 gene from NCBI http://www.ncbi.nlm.nih.gov/nuccore/23491728?report=fasta into a text file (using Text Wranger, Notepad ++, etc) and save as p53_mRNA.fasta. Include the header line \">gi|23491728|dbj|AB082923.1| Homo sapiens mRNA for P53, complete cds\" following by the nucleotide sequence.  Then make a second file p53_mRNA.txt that only includes the nucleotide sequence and no header. Put these files in your working directory (AdvGen or Bioinformatics or YOURNAME)."
   ]
  },
  {
   "cell_type": "code",
   "execution_count": 1,
   "metadata": {},
   "outputs": [
    {
     "name": "stdout",
     "output_type": "stream",
     "text": [
      "CGTGCTTTCCACGACGGTGACACGCTTCCCTGGATTGGCCAGACTGCCTTCCGGGTCACTGCCATGGAGG\n",
      "AGCCGCAGTCAGATCCTAGCGTCGAGCCCCCTCTGAGTCAGGAAACATTTTCAGACCTATGGAAACTACT\n",
      "TCCTGAAAACAACGTTCTGTCCCCCTTGCCGTCCCAAGCAATGGATGATTTGATGCTGTCCCCGGACGAT\n",
      "ATTGAACAATGGTTCACTGAAGACCCAGGTCCAGATGAAGCTCCCAGAATGCCAGAGGCTGCTCCCCGCG\n",
      "TGGCCCCTGCACCAGCAGCTCCTACACCGGCGGCCCCTGCACCAGCCCCCTCCTGGCCCCTGTCATCTTC\n",
      "TGTCCCTTCCCAGAAAACCTACCAGGGCAGCTACGGTTTCCGTCTGGGCTTCTTGCATTCTGGGACAGCC\n",
      "AAGTCTGTGACTTGCACGTACTCCCCTGCCCTCAACAAGATGTTTTGCCAACTGGCCAAGACCTGCCCTG\n",
      "TGCAGCTGTGGGTTGATTCCACACCCCCGCCCGGCACCCGCGTCCGCGCCATGGCCATCTACAAGCAGTC\n",
      "ACAGCACATGACGGAGGTTGTGAGGCGCTGCCCCCACCATGAGCGCTGCTCAGATAGCGATGGTCTGGCC\n",
      "CCTCCTCAGCATCTTATCCGAGTGGAAGGAAATTTGCGTGTGGAGTATTTGGATGACAGAAACACTTTTC\n",
      "GACATAGTGTGGTGGTGCCCTATGAGCCGCCTGAGGTTGGCTCTGACTGTACCACCATCCACTACAACTA\n",
      "CATGTGTAACAGTTCCTGCATGGGCGGCATGAACCGGAGGCCCATCCTCACCATCATCACACTGGAAGAC\n",
      "TCCAGTGGTAATCTACTGGGACGGAACAGCTTTGAGGTGCATGTTTGTGCCTGTCCTGGGAGAGACCGGC\n",
      "GCACAGAGGAAGAGAATCTCCGCAAGAAAGGGGAGCCTCACCACGAGCTGCCCCCAGGGAGCACTAAGCG\n",
      "AGCACTGTCCAACAACACCAGCTCCTCTCCCCAGCCAAAGAAGAAACCACTGGATGGAGAATATTTCACC\n",
      "CTTCAGATCCGTGGGCGTGAGCGCTTCGAGATGTTCCGAGAGCTGAATGAGGCCTTGGAACTCAAGGATG\n",
      "CCCAGGCTGGGAAGGAGCCAGGGGGGAGCAGGGCTCACTCCAGCCACCTGAAGTCCAAAAAGGGTCAGTC\n",
      "TACCTCCCGCCATAAAAAACTCATGTTCAAGACAGAAGGGCCTGACTCAGACTGACATTCTCCACTTCTT\n",
      "GTTCCCCACTGACAGCCTCCCACCCCCATCTCTCCCTCCCCTGCCATTTTGGGTTTTGGGTCTTTGAACC\n",
      "CTTGCTTGCAATAGGTGTGCGTCAGAAGCACCCAGGACTTCCATTTGCTTTGTCCCGGGGCTCCACTGAA\n",
      "CAAGTTGGCCTGCACTGGTGTTTTGTTGTGGGGAGGAGGATGGGGAGTAGGACATACCAGCTTAGATTTT\n",
      "AAGGTTTTTACTGTGAGGGATGTTTGGGAGATGTAAGAAATGTTCTTGCAGTTAAGGGTTAGTTTACAAT\n",
      "CAGCCACATTCTAGGTAGGGGCCCACTTCACCGTACTAACCAGGGAAGCTGTCCCTCACTGTTGAATTTT\n",
      "CTCTAACTTCAAGGCCCATATCTGTGAAATGCTGGCATTTGCACCTACCTCACAGAGTGCATTGTGAGGG\n",
      "TTAATGAAATAATGTACATCTGGCCTTGAAACCACCTTTTATTACATGGGGTCTAGAACTTGACCCCCTT\n",
      "GAGGGTGCTTGTTCCCTCTCCCTGTTGGTCGGTGGGTTGGTAGTTTCTACAGTTGGGCAGCTGGTTAGGT\n",
      "AGAGGGAGTTGTCAAGTCTCTGCTGGCCCAGCCAAACCCTGTCTGACAACCTCTTGGTGAACCTTAGTAC\n",
      "CTAAAAGGAAATCTCACCCCATCCCACACCCTGGAGGATTTCATCTCTTGTATATGATGATCTGGATCCA\n",
      "CCAAGACTTGTTTTATGCTCAGGGTCAATTTCTTTTTTCTTTTTTTTTTTTTTTTTCTTTTTCTTTGAGA\n",
      "CTGGGTCTCGCTTTGTTGCCCAGGCTGGAGTGGAGTGGCGTGATCTTGGCTTACTGCAGCCTTTGCCTCC\n",
      "CCGGCTCGAGCAGTCCTGCCTCAGCCTCCGGAGTAGCTGGGACCACAGGTTCATGCCACCATGGCCAGCC\n",
      "AACTTTTGCATGTTTTGTAGAGATGGGGTCTCACAGTGTTGCCCAGGCTGGTCTCAAACTCCTGGGCTCA\n",
      "GGCGATCCACCTGTCTCAGCCTCCCAGAGTGCTGGGATTACAATTGTGAGCCACCACGTCCAGCTGGAAG\n",
      "GGTCAACATCTTTTACATTCTGCAAGCACATCTGCATTTTCACCCCACCCTTCCCCTCCTTCTCCCTTTT\n",
      "TATATCCCATTTTTATATCGATCTCTTATTTTACAATAAAACTTTGCTGCCAAAAAAAAAAAAAAAAAAA\n",
      "A\n",
      "\n",
      "\n"
     ]
    }
   ],
   "source": [
    "#!/usr/bin/env python\n",
    "\n",
    "# Example 10.1\n",
    "# Name: read_mRNA_file.py\n",
    "# Description: A program to read a mRNA sequence from a file and print it out\n",
    "\n",
    "# Open the file\n",
    "fh = open('p53_mRNA.txt', 'r')\n",
    "\n",
    "# Read the file into a variable or list\n",
    "mRNA = fh.read()\n",
    "\n",
    "# Close the file\n",
    "fh.close()\n",
    "\n",
    "print (mRNA)"
   ]
  },
  {
   "cell_type": "markdown",
   "metadata": {},
   "source": [
    "In the statement fh = open('p53_mRNA.txt', 'r') The first argument is a string containing the filename. The second argument is another string containing a few characters describing the way in which the file will be used. The mode is'r' when the file will only be read, 'w' for only writing (an existing file with the same name will be erased), and 'a' opens the file for appending; any data written to the file is automatically added to the end. 'r+' opens the file for both reading and writing. The mode argument is optional; 'r' will be assumed if it’s omitted.  It is good practice to define the files the your are reading from and writing to separately so that you don't accidentally overwrite a file.\n",
    "\n",
    "Since the above progam loads the whole file into a string, we could use any number of string methods, including those from the last session to characterize this mRNA sequence.  Here is an example:"
   ]
  },
  {
   "cell_type": "code",
   "execution_count": 2,
   "metadata": {},
   "outputs": [
    {
     "name": "stdout",
     "output_type": "stream",
     "text": [
      "sum of A = 537\n",
      "sum of C = 697\n",
      "sum of G = 592\n",
      "sum of T = 625\n",
      "sum of nucleotides = 2451\n",
      "The length of the mRNA = 2488\n"
     ]
    }
   ],
   "source": [
    "#!/usr/bin/env python\n",
    "\n",
    "# Example 10.2\n",
    "# Name: count_nucleotides.py\n",
    "# Description: A program to read a mRNA sequence from a file and print it out\n",
    "\n",
    "# Open the file\n",
    "fh = open('p53_mRNA.txt', 'r')\n",
    "\n",
    "# Read the file into a list\n",
    "mRNA = fh.read()\n",
    "\n",
    "# Close the file\n",
    "fh.close()\n",
    "\n",
    "# Use the string method .count to determine the number of each nucleotide\n",
    "A = mRNA.count('A')\n",
    "C = mRNA.count('C')\n",
    "G = mRNA.count('G')\n",
    "T = mRNA.count('T')\n",
    "\n",
    "# Sum the nucleotide counts\n",
    "sum_nucleotides = A + C + G + T\n",
    "\n",
    "# Determine the length of the mRNA sequence\n",
    "mRNA_length = len(mRNA)\n",
    "\n",
    "# print the results \n",
    "print ('sum of A =', A)\n",
    "print ('sum of C =', C)\n",
    "print ('sum of G =', G)\n",
    "print ('sum of T =', T)\n",
    "print ('sum of nucleotides =', sum_nucleotides)\n",
    "print ('The length of the mRNA =', mRNA_length)"
   ]
  },
  {
   "cell_type": "markdown",
   "metadata": {},
   "source": [
    "Why doesn't the sum of nucleotides equal the length of the mRNA?  When a file is read into a program as a string all the characters including the line breaks (also called new lines) are entered into the string.  We can't see the new lines, but Python can."
   ]
  },
  {
   "cell_type": "code",
   "execution_count": 3,
   "metadata": {},
   "outputs": [
    {
     "name": "stdout",
     "output_type": "stream",
     "text": [
      "sum of A = 537\n",
      "sum of C = 697\n",
      "sum of G = 592\n",
      "sum of T = 625\n",
      "sum of nucleotides = 2451\n",
      "The length of the mRNA = 2488\n",
      "The length of the mRNA without line breaks = 2451\n"
     ]
    }
   ],
   "source": [
    "#!/usr/bin/env python\n",
    "\n",
    "# Example 10.3\n",
    "# Name: count_nucleotides_no_new_lines.py\n",
    "# Description: A program to read a mRNA sequence from a file and print it out\n",
    "\n",
    "# Open the file\n",
    "fh = open('p53_mRNA.txt', 'r')\n",
    "\n",
    "# Read the file into a variable or list\n",
    "mRNA = fh.read()\n",
    "\n",
    "# Close the file\n",
    "fh.close()\n",
    "\n",
    "# Use the string method .count to determine the number of each nucleotide\n",
    "A = mRNA.count('A')\n",
    "C = mRNA.count('C')\n",
    "G = mRNA.count('G')\n",
    "T = mRNA.count('T')\n",
    "\n",
    "# Sum the nucleotide counts\n",
    "sum_nucleotides = A + C + G + T\n",
    "\n",
    "# Determine the length of the mRNA sequence\n",
    "mRNA_length = len(mRNA)\n",
    "\n",
    "# remove the line breaks (new lines) and find the new length\n",
    "mRNA_no_new_lines = mRNA.replace('\\n', '')\n",
    "mRNA_length_no_new_lines = len(mRNA_no_new_lines)\n",
    "                                  \n",
    "# print the results                           \n",
    "print ('sum of A =', A)\n",
    "print ('sum of C =', C)\n",
    "print ('sum of G =', G)\n",
    "print ('sum of T =', T)\n",
    "print ('sum of nucleotides =', sum_nucleotides)\n",
    "print ('The length of the mRNA =', mRNA_length)\n",
    "print ('The length of the mRNA without line breaks =', mRNA_length_no_new_lines)"
   ]
  },
  {
   "cell_type": "markdown",
   "metadata": {},
   "source": [
    "Removing the new lines will also effect the way the variable mRNA prints out to the screen.  Trying adding a print statement with mRNA_no_new_lines and mRNA to compare the results."
   ]
  },
  {
   "cell_type": "markdown",
   "metadata": {},
   "source": [
    "## 10.2 Working with fasta files"
   ]
  },
  {
   "cell_type": "code",
   "execution_count": 4,
   "metadata": {},
   "outputs": [
    {
     "name": "stdout",
     "output_type": "stream",
     "text": [
      "This is a properly formatted fasta header line.\n",
      "['gi', '23491728', 'dbj', 'AB082923.1', ' Homo sapiens mRNA for P53, complete cds']\n",
      "The GenBank ID is  Homo sapiens mRNA for P53, complete cds\n"
     ]
    }
   ],
   "source": [
    "#!/usr/bin/env python\n",
    "\n",
    "# Example 10.4\n",
    "# Name: fasta_header_parse.py\n",
    "# Description: A program to parse the fasta header line\n",
    "import re\n",
    "\n",
    "fasta_header = '>gi|23491728|dbj|AB082923.1| Homo sapiens mRNA for P53, complete cds'\n",
    "\n",
    "if fasta_header.startswith(\">\") :\n",
    "    print (\"This is a properly formatted fasta header line.\")\n",
    "    \n",
    "    fasta_header = fasta_header.replace('>', '')\n",
    "    \n",
    "    #Next split the fasta header into a list based on |\n",
    "    fasta_list = fasta_header.split('|')\n",
    "    \n",
    "    print (fasta_list)\n",
    "    print (\"The GenBank ID is\", fasta_list[4])\n",
    "    \n",
    "else :\n",
    "    print (\"This is not a properly formatted fasta header line.\")\n",
    "\n"
   ]
  },
  {
   "cell_type": "markdown",
   "metadata": {},
   "source": [
    "#### Reading the fasta file into a program one line at a time using fh.readline().   "
   ]
  },
  {
   "cell_type": "code",
   "execution_count": 5,
   "metadata": {},
   "outputs": [
    {
     "name": "stdout",
     "output_type": "stream",
     "text": [
      ">p53\n",
      "\n",
      "CGTGCTTTCCACGACGGTGACACGCTTCCCTGGATTGGCCAGACTGCCTTCCGGGTCACTGCCATGGAGG\n",
      "\n"
     ]
    }
   ],
   "source": [
    "#!/usr/bin/env python\n",
    "\n",
    "# Example 10.5\n",
    "# Name: mRNA_readline.py\n",
    "# Description: A program to read a mRNA sequence one line at at time\n",
    "\n",
    "# Open the file\n",
    "fh = open('p53_mRNA.fasta', 'r')\n",
    "\n",
    "# Read the first line of the file into a variable\n",
    "mRNA_line1 = fh.readline()\n",
    "mRNA_line2 = fh.readline()\n",
    "\n",
    "# Close the file\n",
    "fh.close()\n",
    "\n",
    "#print the first line of the file\n",
    "\n",
    "print (mRNA_line1)\n",
    "print (mRNA_line2)\n"
   ]
  },
  {
   "cell_type": "markdown",
   "metadata": {},
   "source": [
    "Since each line of the input file contains a new line and print() also supplies a newline, we've got an extra linebreak after each of the first two print statements.  One crucially important concept of file input in Python is that each time you read something by any of the three methods I've described, you advance the position of the filehandle in the file, which means that you never get the same character or characters twice (unless of course they're in the file twice!)\n",
    "\n",
    "This is why reading from the filehandle with fh.readline() twice in a row gave two different values; as soon as the line is read, the filehandle has moved to the next line, awaiting another read request. This is an example of an iterable type, meaning that the filehandle is a type of object that knows how to advance itself in anticipation of the next request. That means that to get back to the beginning of the file, you must close the file with the close() and reopen it.\n",
    "\n",
    "The method strip() is also useful for reading files since it can be used to remove the line breaks. Notice the difference in the output between the above and below examples."
   ]
  },
  {
   "cell_type": "code",
   "execution_count": 6,
   "metadata": {},
   "outputs": [
    {
     "name": "stdout",
     "output_type": "stream",
     "text": [
      ">p53 CGTGCTTTCCACGACGGTGACACGCTTCCCTGGATTGGCCAGACTGCCTTCCGGGTCACTGCCATGGAGG\n"
     ]
    }
   ],
   "source": [
    "#!/usr/bin/env python\n",
    "\n",
    "# Example 10.6\n",
    "# Name: mRNA_readline_strip.py\n",
    "# Description: A program to read a mRNA sequence one line at at time\n",
    "#              and remove the newline\n",
    "\n",
    "# Open the file\n",
    "fh = open('p53_mRNA.fasta', 'r')\n",
    "\n",
    "# Read the first line of the file into a variable\n",
    "mRNA_line1 = fh.readline().strip()\n",
    "mRNA_line2 = fh.readline().strip()\n",
    "\n",
    "# Close the file\n",
    "fh.close()\n",
    "\n",
    "#print the first line of the file\n",
    "\n",
    "print (mRNA_line1, mRNA_line2)"
   ]
  },
  {
   "cell_type": "markdown",
   "metadata": {},
   "source": [
    "The function fh.readlines() (plural!) takes the entire file, from the current read position all the way to the end, giving back a list of lines (again, with newlines intact). Read in the list.  Get the fasta header and join the other lines of the list"
   ]
  },
  {
   "cell_type": "code",
   "execution_count": 7,
   "metadata": {},
   "outputs": [
    {
     "name": "stdout",
     "output_type": "stream",
     "text": [
      "['>p53\\n', 'CGTGCTTTCCACGACGGTGACACGCTTCCCTGGATTGGCCAGACTGCCTTCCGGGTCACTGCCATGGAGG\\n', 'AGCCGCAGTCAGATCCTAGCGTCGAGCCCCCTCTGAGTCAGGAAACATTTTCAGACCTATGGAAACTACT\\n', 'TCCTGAAAACAACGTTCTGTCCCCCTTGCCGTCCCAAGCAATGGATGATTTGATGCTGTCCCCGGACGAT\\n', 'ATTGAACAATGGTTCACTGAAGACCCAGGTCCAGATGAAGCTCCCAGAATGCCAGAGGCTGCTCCCCGCG\\n', 'TGGCCCCTGCACCAGCAGCTCCTACACCGGCGGCCCCTGCACCAGCCCCCTCCTGGCCCCTGTCATCTTC\\n', 'TGTCCCTTCCCAGAAAACCTACCAGGGCAGCTACGGTTTCCGTCTGGGCTTCTTGCATTCTGGGACAGCC\\n', 'AAGTCTGTGACTTGCACGTACTCCCCTGCCCTCAACAAGATGTTTTGCCAACTGGCCAAGACCTGCCCTG\\n', 'TGCAGCTGTGGGTTGATTCCACACCCCCGCCCGGCACCCGCGTCCGCGCCATGGCCATCTACAAGCAGTC\\n', 'ACAGCACATGACGGAGGTTGTGAGGCGCTGCCCCCACCATGAGCGCTGCTCAGATAGCGATGGTCTGGCC\\n', 'CCTCCTCAGCATCTTATCCGAGTGGAAGGAAATTTGCGTGTGGAGTATTTGGATGACAGAAACACTTTTC\\n', 'GACATAGTGTGGTGGTGCCCTATGAGCCGCCTGAGGTTGGCTCTGACTGTACCACCATCCACTACAACTA\\n', 'CATGTGTAACAGTTCCTGCATGGGCGGCATGAACCGGAGGCCCATCCTCACCATCATCACACTGGAAGAC\\n', 'TCCAGTGGTAATCTACTGGGACGGAACAGCTTTGAGGTGCATGTTTGTGCCTGTCCTGGGAGAGACCGGC\\n', 'GCACAGAGGAAGAGAATCTCCGCAAGAAAGGGGAGCCTCACCACGAGCTGCCCCCAGGGAGCACTAAGCG\\n', 'AGCACTGTCCAACAACACCAGCTCCTCTCCCCAGCCAAAGAAGAAACCACTGGATGGAGAATATTTCACC\\n', 'CTTCAGATCCGTGGGCGTGAGCGCTTCGAGATGTTCCGAGAGCTGAATGAGGCCTTGGAACTCAAGGATG\\n', 'CCCAGGCTGGGAAGGAGCCAGGGGGGAGCAGGGCTCACTCCAGCCACCTGAAGTCCAAAAAGGGTCAGTC\\n', 'TACCTCCCGCCATAAAAAACTCATGTTCAAGACAGAAGGGCCTGACTCAGACTGACATTCTCCACTTCTT\\n', 'GTTCCCCACTGACAGCCTCCCACCCCCATCTCTCCCTCCCCTGCCATTTTGGGTTTTGGGTCTTTGAACC\\n', 'CTTGCTTGCAATAGGTGTGCGTCAGAAGCACCCAGGACTTCCATTTGCTTTGTCCCGGGGCTCCACTGAA\\n', 'CAAGTTGGCCTGCACTGGTGTTTTGTTGTGGGGAGGAGGATGGGGAGTAGGACATACCAGCTTAGATTTT\\n', 'AAGGTTTTTACTGTGAGGGATGTTTGGGAGATGTAAGAAATGTTCTTGCAGTTAAGGGTTAGTTTACAAT\\n', 'CAGCCACATTCTAGGTAGGGGCCCACTTCACCGTACTAACCAGGGAAGCTGTCCCTCACTGTTGAATTTT\\n', 'CTCTAACTTCAAGGCCCATATCTGTGAAATGCTGGCATTTGCACCTACCTCACAGAGTGCATTGTGAGGG\\n', 'TTAATGAAATAATGTACATCTGGCCTTGAAACCACCTTTTATTACATGGGGTCTAGAACTTGACCCCCTT\\n', 'GAGGGTGCTTGTTCCCTCTCCCTGTTGGTCGGTGGGTTGGTAGTTTCTACAGTTGGGCAGCTGGTTAGGT\\n', 'AGAGGGAGTTGTCAAGTCTCTGCTGGCCCAGCCAAACCCTGTCTGACAACCTCTTGGTGAACCTTAGTAC\\n', 'CTAAAAGGAAATCTCACCCCATCCCACACCCTGGAGGATTTCATCTCTTGTATATGATGATCTGGATCCA\\n', 'CCAAGACTTGTTTTATGCTCAGGGTCAATTTCTTTTTTCTTTTTTTTTTTTTTTTTCTTTTTCTTTGAGA\\n', 'CTGGGTCTCGCTTTGTTGCCCAGGCTGGAGTGGAGTGGCGTGATCTTGGCTTACTGCAGCCTTTGCCTCC\\n', 'CCGGCTCGAGCAGTCCTGCCTCAGCCTCCGGAGTAGCTGGGACCACAGGTTCATGCCACCATGGCCAGCC\\n', 'AACTTTTGCATGTTTTGTAGAGATGGGGTCTCACAGTGTTGCCCAGGCTGGTCTCAAACTCCTGGGCTCA\\n', 'GGCGATCCACCTGTCTCAGCCTCCCAGAGTGCTGGGATTACAATTGTGAGCCACCACGTCCAGCTGGAAG\\n', 'GGTCAACATCTTTTACATTCTGCAAGCACATCTGCATTTTCACCCCACCCTTCCCCTCCTTCTCCCTTTT\\n', 'TATATCCCATTTTTATATCGATCTCTTATTTTACAATAAAACTTTGCTGCCAAAAAAAAAAAAAAAAAAA\\n', 'A\\n', '\\n']\n"
     ]
    }
   ],
   "source": [
    "#!/usr/bin/env python\n",
    "\n",
    "# Example 10.7\n",
    "# Name: mRNA_readline_list.py\n",
    "# Description: A program to read a mRNA sequence into a list\n",
    "\n",
    "# Open the file\n",
    "fh = open('p53_mRNA.fasta', 'r')\n",
    "\n",
    "# Read the lines from the file into list\n",
    "mRNA_list = fh.readlines()\n",
    "\n",
    "# Close the file\n",
    "fh.close()\n",
    "\n",
    "#print the first line of the file\n",
    "print (mRNA_list)\n"
   ]
  },
  {
   "cell_type": "code",
   "execution_count": 8,
   "metadata": {},
   "outputs": [
    {
     "name": "stdout",
     "output_type": "stream",
     "text": [
      ">p53\n",
      "CGTGCTTTCCACGACGGTGACACGCTTCCCTGGATTGGCCAGACTGCCTTCCGGGTCACTGCCATGGAGG\n",
      "AGCCGCAGTCAGATCCTAGCGTCGAGCCCCCTCTGAGTCAGGAAACATTTTCAGACCTATGGAAACTACT\n",
      "TCCTGAAAACAACGTTCTGTCCCCCTTGCCGTCCCAAGCAATGGATGATTTGATGCTGTCCCCGGACGAT\n",
      "ATTGAACAATGGTTCACTGAAGACCCAGGTCCAGATGAAGCTCCCAGAATGCCAGAGGCTGCTCCCCGCG\n",
      "TGGCCCCTGCACCAGCAGCTCCTACACCGGCGGCCCCTGCACCAGCCCCCTCCTGGCCCCTGTCATCTTC\n",
      "TGTCCCTTCCCAGAAAACCTACCAGGGCAGCTACGGTTTCCGTCTGGGCTTCTTGCATTCTGGGACAGCC\n",
      "AAGTCTGTGACTTGCACGTACTCCCCTGCCCTCAACAAGATGTTTTGCCAACTGGCCAAGACCTGCCCTG\n",
      "TGCAGCTGTGGGTTGATTCCACACCCCCGCCCGGCACCCGCGTCCGCGCCATGGCCATCTACAAGCAGTC\n",
      "ACAGCACATGACGGAGGTTGTGAGGCGCTGCCCCCACCATGAGCGCTGCTCAGATAGCGATGGTCTGGCC\n",
      "CCTCCTCAGCATCTTATCCGAGTGGAAGGAAATTTGCGTGTGGAGTATTTGGATGACAGAAACACTTTTC\n",
      "GACATAGTGTGGTGGTGCCCTATGAGCCGCCTGAGGTTGGCTCTGACTGTACCACCATCCACTACAACTA\n",
      "CATGTGTAACAGTTCCTGCATGGGCGGCATGAACCGGAGGCCCATCCTCACCATCATCACACTGGAAGAC\n",
      "TCCAGTGGTAATCTACTGGGACGGAACAGCTTTGAGGTGCATGTTTGTGCCTGTCCTGGGAGAGACCGGC\n",
      "GCACAGAGGAAGAGAATCTCCGCAAGAAAGGGGAGCCTCACCACGAGCTGCCCCCAGGGAGCACTAAGCG\n",
      "AGCACTGTCCAACAACACCAGCTCCTCTCCCCAGCCAAAGAAGAAACCACTGGATGGAGAATATTTCACC\n",
      "CTTCAGATCCGTGGGCGTGAGCGCTTCGAGATGTTCCGAGAGCTGAATGAGGCCTTGGAACTCAAGGATG\n",
      "CCCAGGCTGGGAAGGAGCCAGGGGGGAGCAGGGCTCACTCCAGCCACCTGAAGTCCAAAAAGGGTCAGTC\n",
      "TACCTCCCGCCATAAAAAACTCATGTTCAAGACAGAAGGGCCTGACTCAGACTGACATTCTCCACTTCTT\n",
      "GTTCCCCACTGACAGCCTCCCACCCCCATCTCTCCCTCCCCTGCCATTTTGGGTTTTGGGTCTTTGAACC\n",
      "CTTGCTTGCAATAGGTGTGCGTCAGAAGCACCCAGGACTTCCATTTGCTTTGTCCCGGGGCTCCACTGAA\n",
      "CAAGTTGGCCTGCACTGGTGTTTTGTTGTGGGGAGGAGGATGGGGAGTAGGACATACCAGCTTAGATTTT\n",
      "AAGGTTTTTACTGTGAGGGATGTTTGGGAGATGTAAGAAATGTTCTTGCAGTTAAGGGTTAGTTTACAAT\n",
      "CAGCCACATTCTAGGTAGGGGCCCACTTCACCGTACTAACCAGGGAAGCTGTCCCTCACTGTTGAATTTT\n",
      "CTCTAACTTCAAGGCCCATATCTGTGAAATGCTGGCATTTGCACCTACCTCACAGAGTGCATTGTGAGGG\n",
      "TTAATGAAATAATGTACATCTGGCCTTGAAACCACCTTTTATTACATGGGGTCTAGAACTTGACCCCCTT\n",
      "GAGGGTGCTTGTTCCCTCTCCCTGTTGGTCGGTGGGTTGGTAGTTTCTACAGTTGGGCAGCTGGTTAGGT\n",
      "AGAGGGAGTTGTCAAGTCTCTGCTGGCCCAGCCAAACCCTGTCTGACAACCTCTTGGTGAACCTTAGTAC\n",
      "CTAAAAGGAAATCTCACCCCATCCCACACCCTGGAGGATTTCATCTCTTGTATATGATGATCTGGATCCA\n",
      "CCAAGACTTGTTTTATGCTCAGGGTCAATTTCTTTTTTCTTTTTTTTTTTTTTTTTCTTTTTCTTTGAGA\n",
      "CTGGGTCTCGCTTTGTTGCCCAGGCTGGAGTGGAGTGGCGTGATCTTGGCTTACTGCAGCCTTTGCCTCC\n",
      "CCGGCTCGAGCAGTCCTGCCTCAGCCTCCGGAGTAGCTGGGACCACAGGTTCATGCCACCATGGCCAGCC\n",
      "AACTTTTGCATGTTTTGTAGAGATGGGGTCTCACAGTGTTGCCCAGGCTGGTCTCAAACTCCTGGGCTCA\n",
      "GGCGATCCACCTGTCTCAGCCTCCCAGAGTGCTGGGATTACAATTGTGAGCCACCACGTCCAGCTGGAAG\n",
      "GGTCAACATCTTTTACATTCTGCAAGCACATCTGCATTTTCACCCCACCCTTCCCCTCCTTCTCCCTTTT\n",
      "TATATCCCATTTTTATATCGATCTCTTATTTTACAATAAAACTTTGCTGCCAAAAAAAAAAAAAAAAAAA\n",
      "A\n",
      "\n"
     ]
    }
   ],
   "source": [
    "#!/usr/bin/env python\n",
    "\n",
    "# Example 10.8\n",
    "# Name: mRNA_readline_list_strip.py\n",
    "# Description: A program to read a mRNA sequence into a list\n",
    "\n",
    "# Open the file\n",
    "fh = open('p53_mRNA.fasta', 'r')\n",
    "\n",
    "# Read the lines from the file into list\n",
    "mRNA_list = fh.readlines()\n",
    "\n",
    "# Removing the new line\n",
    "# Unfortunately \n",
    "# RNA_list_stript = fh.readlines().strip()\n",
    "# gives an error message 'list' object has no attribute 'strip'\n",
    "# to remove newlines for the list we must iterate through the list\n",
    "\n",
    "for line in mRNA_list :\n",
    "    line = line.strip()\n",
    "    print(line)\n",
    "\n",
    "# Close the file\n",
    "fh.close()"
   ]
  },
  {
   "cell_type": "markdown",
   "metadata": {},
   "source": [
    "Copy, paste and save the following text as sequences.fasta to use in example 10.9\n",
    "\n",
    "<pre>\n",
    ">gi|gene1\n",
    "ATGAGACGTAGTGCCAGTAGCGCGATGTAGCG\n",
    "ATGACGCATGACGCGCGACGCGCGAGTGAGCC\n",
    "ATACGCACGCATTGGCA\n",
    ">gi|gene2\n",
    "ATGTTCGACGCATACGACGCGCAGTACCAGCA\n",
    "ATGACGCACCGGGATACACGACGCGGATTTTT\n",
    "ACGCACCGAGATAGCATAAAAGACCATTAG\n",
    ">gi|gene3\n",
    "TTATGGCACCCACTAGAGCCAGATTATTTTAAA\n",
    "GGGATACACGACGCGGATTTTT\n",
    "</pre>"
   ]
  },
  {
   "cell_type": "code",
   "execution_count": 9,
   "metadata": {},
   "outputs": [
    {
     "name": "stdout",
     "output_type": "stream",
     "text": [
      "{'gene1': 'ATGAGACGTAGTGCCAGTAGCGCGATGTAGCGATGACGCATGACGCGCGACGCGCGAGTGAGCCATACGCACGCATTGGCA', 'gene2': 'ATGTTCGACGCATACGACGCGCAGTACCAGCAATGACGCACCGGGATACACGACGCGGATTTTTACGCACCGAGATAGCATAAAAGACCATTAG', 'gene3': 'TTATGGCACCCACTAGAGCCAGATTATTTTAAAGGGATACACGACGCGGATTTTT'}\n"
     ]
    }
   ],
   "source": [
    "#!/usr/bin/env python\n",
    "\n",
    "# Example 10.9\n",
    "# Name: mRNA_readline_list2.py\n",
    "# Description: A program to read a mRNA sequence into a list\n",
    "\n",
    "current_GenBank_ID = ''\n",
    "dict_fasta = {}          # Make an empty dictionary of genes\n",
    "\n",
    "# Open the file\n",
    "inputfile = open('sequences.fasta', 'r')\n",
    "\n",
    "# Read the first lines into list and remove the new line\n",
    "mRNA_list = inputfile.readlines()\n",
    "\n",
    "for line in mRNA_list :\n",
    "    # Clear out leading/trailing whitespace (e.g. '\\n')\n",
    "    line = line.strip()\n",
    "    \n",
    "    # Check to see if the line is a fasta header\n",
    "    if line.startswith(\">\") :\n",
    "        \n",
    "        # Next split the fasta header into a list based on |\n",
    "        fasta_list = line.split('|');\n",
    "\n",
    "        # Get the GenBank_ID\n",
    "        current_GenBank_ID = fasta_list[1]\n",
    "        \n",
    "        # Add the GenBank_ID to the dictionary\n",
    "        dict_fasta[current_GenBank_ID] = \"\"\n",
    "        \n",
    "    else :\n",
    "        # Add the sequence as values to the GenBank ID\n",
    "        dict_fasta[current_GenBank_ID] += line\n",
    "\n",
    "# Print the dictionary of fasta sequences\n",
    "print (dict_fasta)\n",
    "\n",
    "# Close the file\n",
    "inputfile.close()\n"
   ]
  },
  {
   "cell_type": "markdown",
   "metadata": {},
   "source": [
    "## 10.3 Writing to files\n",
    "\n",
    "Writing results of a program to a file the same paradigm as read files.  Remember, a filehandle is an object that controls the stream of information between your program and a file stored somewhere on the computer. Filehandles are not filenames, and they are not the files themselves. They are a tool that your program uses to interact with files.  We create filehandles in the simplest sense with the open() command."
   ]
  },
  {
   "cell_type": "code",
   "execution_count": 10,
   "metadata": {},
   "outputs": [],
   "source": [
    "#!/usr/bin/env python\n",
    "\n",
    "# Example 10.10\n",
    "# Name: write_file.py\n",
    "# Description: A program to write a DNA sequence to a file\n",
    "\n",
    "# Open the output file and make it writable\n",
    "fh = open('DNA_results.txt', 'w')\n",
    "\n",
    "DNA1 = 'AGTTGTAATGAGGCTGCCGTGATA'\n",
    "\n",
    "# Write the DNA sequence to the output file\n",
    "fh.write(DNA1)\n",
    "\n",
    "# Close the file\n",
    "fh.close()"
   ]
  },
  {
   "cell_type": "markdown",
   "metadata": {},
   "source": [
    "Notice that no output is written to the screen (terminal or command prompt window), but look in your active directory (e.g. EvoGen or Bioinformatics or YOURNAME) and you will see a new file call DNA_results.txt.  Open it up with your text editor and you should see the sequence of DNA1.\n",
    "\n",
    "If you run the program again you will write over the old file.  If you want to add more results or in this case sequence to a file you can open the file in a mode that makes it appendable."
   ]
  },
  {
   "cell_type": "code",
   "execution_count": 11,
   "metadata": {},
   "outputs": [],
   "source": [
    "#!/usr/bin/env python\n",
    "\n",
    "# Example 10.11\n",
    "# Name: append_file.py\n",
    "# Description: A program to write a DNA sequence to a file\n",
    "\n",
    "# Open the output file and make it appendable\n",
    "fh = open('DNA_results.txt', 'a')\n",
    "\n",
    "DNA2 = 'CGATTACGGCATCATTTAAAGGGCAGGAGGGTA'\n",
    "\n",
    "# Write the DNA sequence to the output file\n",
    "fh.write(DNA2)\n",
    "\n",
    "# Close the file\n",
    "fh.close()"
   ]
  },
  {
   "cell_type": "markdown",
   "metadata": {},
   "source": [
    "Check your DNA results file to see if the second sequence was added.   The write function only works with strings thus the following results in an error message."
   ]
  },
  {
   "cell_type": "code",
   "execution_count": 12,
   "metadata": {},
   "outputs": [
    {
     "ename": "TypeError",
     "evalue": "write() argument must be str, not int",
     "output_type": "error",
     "traceback": [
      "\u001b[0;31m---------------------------------------------------------------------------\u001b[0m",
      "\u001b[0;31mTypeError\u001b[0m                                 Traceback (most recent call last)",
      "\u001b[0;32m<ipython-input-12-efee7dda51b2>\u001b[0m in \u001b[0;36m<module>\u001b[0;34m()\u001b[0m\n\u001b[1;32m     14\u001b[0m \u001b[0;31m# Write the DNA sequence to the output file\u001b[0m\u001b[0;34m\u001b[0m\u001b[0;34m\u001b[0m\u001b[0m\n\u001b[1;32m     15\u001b[0m \u001b[0mfh\u001b[0m\u001b[0;34m.\u001b[0m\u001b[0mwrite\u001b[0m\u001b[0;34m(\u001b[0m\u001b[0mDNA1\u001b[0m\u001b[0;34m)\u001b[0m\u001b[0;34m\u001b[0m\u001b[0m\n\u001b[0;32m---> 16\u001b[0;31m \u001b[0mfh\u001b[0m\u001b[0;34m.\u001b[0m\u001b[0mwrite\u001b[0m\u001b[0;34m(\u001b[0m\u001b[0mlength\u001b[0m\u001b[0;34m)\u001b[0m\u001b[0;34m\u001b[0m\u001b[0m\n\u001b[0m\u001b[1;32m     17\u001b[0m \u001b[0;34m\u001b[0m\u001b[0m\n\u001b[1;32m     18\u001b[0m \u001b[0;31m# Close the file\u001b[0m\u001b[0;34m\u001b[0m\u001b[0;34m\u001b[0m\u001b[0m\n",
      "\u001b[0;31mTypeError\u001b[0m: write() argument must be str, not int"
     ]
    }
   ],
   "source": [
    "#!/usr/bin/env python\n",
    "\n",
    "# Example 10.12\n",
    "# Name: write_file2.py\n",
    "# Description: A program to write a DNA sequence to a file\n",
    "\n",
    "# Open the output file and make it writable\n",
    "fh = open('DNA_results.txt', 'w')\n",
    "\n",
    "DNA1 = 'AGTTGTAATGAGGCTGCCGTGATA'\n",
    "\n",
    "length = len(DNA1)\n",
    "\n",
    "# Write the DNA sequence to the output file\n",
    "fh.write(DNA1)\n",
    "fh.write(length)\n",
    "\n",
    "# Close the file\n",
    "fh.close()\n"
   ]
  },
  {
   "cell_type": "markdown",
   "metadata": {},
   "source": [
    "The .write method only writes strings, so you must either convert the integer or floating point number into a string or interpolate as them into strings as we discussed last week and as show in the example below "
   ]
  },
  {
   "cell_type": "code",
   "execution_count": 13,
   "metadata": {},
   "outputs": [],
   "source": [
    "#!/usr/bin/env python\n",
    "\n",
    "# Example 10.13\n",
    "# Name: write_file.py\n",
    "# Description: A program to write a DNA sequence to a file\n",
    "\n",
    "# Open the output file and make it writable\n",
    "fh = open('DNA_results.txt', 'w')\n",
    "\n",
    "DNA1 = 'AGTTGTAATGAGGCTGCCGTGATA'\n",
    "\n",
    "length = len(DNA1)\n",
    "\n",
    "# Write the length of the DNA sequence to the output file\n",
    "fh.write(str(length))\n",
    "fh.write('%d\\n' % (length))\n",
    "fh.write('The length of the DNA sequence is %d.\\n' % (length))\n",
    "\n",
    "# Close the file\n",
    "fh.close()"
   ]
  },
  {
   "cell_type": "markdown",
   "metadata": {},
   "source": [
    "Look at the output file to see the results and the effect of not having a new line \\n.\n",
    "\n",
    "### File handle naming conventions\n",
    "\n",
    "In Python files are objects. To open a file object, you must assign it to a variable as we did above by assigning the variable fh.  You could assign it any varaible name.  Since it is common in programs to have multiple input and output files it is good to have names for them that are more descriptive (such as infile or outfile).  Below is an example of a file that reads in a sequence, manipulates the sequence and then prints it out.  "
   ]
  },
  {
   "cell_type": "code",
   "execution_count": 14,
   "metadata": {},
   "outputs": [],
   "source": [
    "#!/usr/bin/env python\n",
    "\n",
    "# Example 10.14\n",
    "# Name: input_output.py\n",
    "# Description: A program to read a mRNA sequence from a file and print it out\n",
    "\n",
    "# Open the input file\n",
    "infile1 = open('p53_mRNA.txt', 'r')\n",
    "\n",
    "# Open the output file\n",
    "outfile1 = open('p53_mRNA_withU.txt', 'w')\n",
    "\n",
    "# Read the file into to a variable\n",
    "mRNA = infile1.read()\n",
    "\n",
    "# Close the file\n",
    "infile1.close()\n",
    "\n",
    "#Since real mRNA does not have thymidine we will replace the Ts with Us\n",
    "mRNA_withU = mRNA.replace('T', 'U')\n",
    "\n",
    "#write the mRNA with Us to the output file\n",
    "outfile1.write('The mRNA with U in place of T is %s \\n' % (mRNA_withU))\n",
    "\n",
    "# Close the output file\n",
    "outfile1.close()"
   ]
  },
  {
   "cell_type": "markdown",
   "metadata": {},
   "source": [
    "Check out the contents of the file.  Notice that I had to add the new line \\n to the write statement. "
   ]
  },
  {
   "cell_type": "markdown",
   "metadata": {},
   "source": [
    "## 10.4 Working with CSV and tab files\n",
    "\n",
    "The CSV (Comma Separated Values) and tab formats are the most common import and export format for spreadsheets and databases.  Copy, paste and save the following text as gene_exp.csv to use in the below example.\n",
    "\n",
    "<code>\n",
    "Gene1,10,11,12\n",
    "Gene2,3,4,5\n",
    "Gene3,6,12,18\n",
    "Gene4,1,5,10\n",
    "</code>"
   ]
  },
  {
   "cell_type": "code",
   "execution_count": 16,
   "metadata": {},
   "outputs": [
    {
     "name": "stdout",
     "output_type": "stream",
     "text": [
      "{'Gene1': ['10', '11', '12'], 'Gene2': ['3', '4', '5'], 'Gene3': ['6', '12', '18'], 'Gene4': ['1', '5', '10']}\n"
     ]
    }
   ],
   "source": [
    "#!/usr/bin/env python\n",
    "\n",
    "# Example 10.15\n",
    "# Name: read_csv.py\n",
    "# Description: A program to read a CSV file and to make a dictionary based on gene names\n",
    "\n",
    "current_GeneBank_ID = ''\n",
    "dict_genes = {}          # Make an empty dictionary of genes\n",
    "\n",
    "# Open the file\n",
    "inputfile = open('gene_exp.csv', 'r')\n",
    "\n",
    "# Read the first lines into list and remove the new line\n",
    "inputfile_list = inputfile.readlines()\n",
    "\n",
    "for line in inputfile_list :\n",
    "    # Clear out leading/trailing whitespace (e.g. '\\n')\n",
    "    line = line.strip()\n",
    "\n",
    "    # Next split the fasta header into a list based on , use '\\t' for tab files\n",
    "    gene_list = line.split(',')\n",
    "\n",
    "    # Get the gene name and remove it from the list\n",
    "    gene_name = gene_list.pop(0)\n",
    "        \n",
    "    # Add the GenBank_ID to the dictionary\n",
    "    dict_genes[gene_name] = gene_list\n",
    "\n",
    "# Print the dictionary of gene expression values\n",
    "print (dict_genes)\n",
    "\n",
    "# Close the file\n",
    "inputfile.close()"
   ]
  },
  {
   "cell_type": "markdown",
   "metadata": {},
   "source": [
    "## Exercises\n",
    "\n",
    "1. Download the complete proteome (..protein.faa) for the bacterium Clostridium phytofermentans from ftp://ftp.ncbi.nlm.nih.gov/genomes/refseq/bacteria/Lachnoclostridium_phytofermentans/representative/GCF_000018685.1_ASM1868v1 (or your favorite bacterial genome sequence). You will need to uncompress this file. Read each protein into a dictionary as in example 10.9.  Then print to a CSV file the fasta header in one column and the corresponding protein sequence in the next column\n",
    "\n",
    "2. Download the complete genome sequence (..genomic.fna) for the bacterium Clostridium phytofermentans from ftp://ftp.ncbi.nlm.nih.gov/genomes/refseq/bacteria/Lachnoclostridium_phytofermentans/representative/GCF_000018685.1_ASM1868v1/ (or your favorite bacterial genome sequence). Write a program that inputs this sequence (discard the first line with the > fasta header) and writes to an output file a tab formatted file (Hint: use \\t and \\n in your .write statement) with the nucleotide counts and the total number of nucleotides.\n",
    "\n",
    "3. Write a program that translates the above sequence (..genomic.fna) in all six reading frames (Hint: Use Lab 8 code) and finds the possible proteins (Lab 9 code).  Write each predicted protein to a fasta formatted file with a fasta header (e.g. >protein1  >protein2....)\n",
    "\n",
    "We will use the resulting output files in our blast exercise next week.  "
   ]
  },
  {
   "cell_type": "markdown",
   "metadata": {},
   "source": [
    "* Next - <a href=\"http://nbviewer.ipython.org/github/jeffreyblanchard/EvoGenV5/blob/master/EvoGenV5_Lab9.ipynb\">Session 9 : Regular Expressions</a>\n",
    "* Previous - <a href=\"http://nbviewer.ipython.org/github/jeffreyblanchard/EvoGenV5/blob/master/EvoGenV5_Lab11.ipynb\">Session 11 :  Introduction to the National DNA Databases and Blast</a> "
   ]
  }
 ],
 "metadata": {
  "kernelspec": {
   "display_name": "Python 3",
   "language": "python",
   "name": "python3"
  },
  "language_info": {
   "codemirror_mode": {
    "name": "ipython",
    "version": 3
   },
   "file_extension": ".py",
   "mimetype": "text/x-python",
   "name": "python",
   "nbconvert_exporter": "python",
   "pygments_lexer": "ipython3",
   "version": "3.6.6"
  }
 },
 "nbformat": 4,
 "nbformat_minor": 1
}
