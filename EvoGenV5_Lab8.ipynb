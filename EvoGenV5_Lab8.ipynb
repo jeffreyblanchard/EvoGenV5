{
 "cells": [
  {
   "cell_type": "markdown",
   "metadata": {},
   "source": [
    "# Lab 8 : Functions and Modules\n",
    "\n",
    "## Learning Objectives\n",
    "\n",
    "* Function \n",
    "* Modules"
   ]
  },
  {
   "cell_type": "markdown",
   "metadata": {},
   "source": [
    "## 8.1 Functions\n",
    "\n",
    "In this session we'll concentrate on our last fundamental programming concept for the course. To date, we've been writing all of our program logic in the main body of our scripts. And we've seen how built-in python functions like raw_input() are used to operate on variables and their values. In this session, we'll learn how to write functions of our own, how to properly document them for ourselves and other users.\n",
    "\n",
    "If you properly leverage a well-designed function, writing the main logic of your programs becomes almost-too-easy. Instead of writing out meticulous logical statements and loops for every task, you just call forth your previously-crafted logic, which you've vested in well-made functions. These functions are called user-defined functions.\n",
    "\n",
    "### Defining a Function\n",
    "\n",
    "Here are simple rules to define a function in Python.\n",
    "\n",
    "* Function blocks begin with the keyword def followed by the function name and parentheses ( ( ) ).\n",
    "* Any input parameters or arguments should be placed within these parentheses. You can also define parameters inside these parentheses.\n",
    "* The first statement of a function can be an optional statement - the documentation string of the function or docstring.\n",
    "* The code block within every function starts with a colon (:) and is indented.\n",
    "* The statement return [expression] exits a function, optionally passing back an expression to the caller. A return statement with no arguments is the same as return None.\n",
    "\n",
    "### Syntax of a Function\n",
    "\n",
    "The basic syntax is \n",
    "\n",
    "<pre>\n",
    "def functionname( parameters ):\n",
    "   \"function_docstring\"\n",
    "   function_suite\n",
    "   return [expression]\n",
    "</pre>"
   ]
  },
  {
   "cell_type": "code",
   "execution_count": 1,
   "metadata": {},
   "outputs": [
    {
     "name": "stdout",
     "output_type": "stream",
     "text": [
      "47\n"
     ]
    }
   ],
   "source": [
    "#!/usr/bin/env python\n",
    "\n",
    "# Example 8.1 \n",
    "# Name: function_example.py\n",
    "# Description: A program to demonstrate how a function works\n",
    "\n",
    "def DNA_length(DNA):\n",
    "    \"A function that calculates the length of DNA\"\n",
    "    length = len(DNA)\n",
    "    return length\n",
    " \n",
    "# use the function\n",
    "gene = 'ATGAGACGTAGTGCCAGTAGCGCGATGTAGCGATGACGCATGACGCG'\n",
    "print(DNA_length(gene))"
   ]
  },
  {
   "cell_type": "markdown",
   "metadata": {},
   "source": [
    "To define a function, you use the keyword def.  Then comes the function name, in this case DNA_length, with parentheses containing any input arguments the function might need. In this case the function DNA_length() a variable argument called DNA. After that, the function does its thing, executing the indented block of code immediately below. In this case, it calculates the length of DNA. The last thing that it does is return that length to the rest of the program.\n",
    "\n",
    "Technically speaking, a function does not need to explicitly return something, although it's uncommon that you'll write any that don't. If you don't return something explicitly, Python will nevertheless return the special object None. None is logically false (for if statements), and printing None will result in nothing being printed (although None is not the empty string). It's easy to forget to return a value, so this is an easy first thing to check in case your functions don't work as expected.\n",
    "\n",
    "Note that the variable names are different on the inside and the outside of the function: I give it gene, although it takes DNA, and it returns length which we printed. I did this on purpose, as I want to emphasize that the function only knows to expect something, which it internally refers to as DNA, and then to give something else back. In fact, there is some insulation against the outside world, as you can see in this example:"
   ]
  },
  {
   "cell_type": "code",
   "execution_count": 2,
   "metadata": {},
   "outputs": [
    {
     "ename": "NameError",
     "evalue": "name 'length' is not defined",
     "output_type": "error",
     "traceback": [
      "\u001b[0;31m---------------------------------------------------------------------------\u001b[0m",
      "\u001b[0;31mNameError\u001b[0m                                 Traceback (most recent call last)",
      "\u001b[0;32m<ipython-input-2-c6f01ad3a6b5>\u001b[0m in \u001b[0;36m<module>\u001b[0;34m()\u001b[0m\n\u001b[1;32m     13\u001b[0m \u001b[0;31m# use the function\u001b[0m\u001b[0;34m\u001b[0m\u001b[0;34m\u001b[0m\u001b[0m\n\u001b[1;32m     14\u001b[0m \u001b[0mgene\u001b[0m \u001b[0;34m=\u001b[0m \u001b[0;34m'ATGAGACGTAGTGCCAGTAGCGCGATGTAGCGATGACGCATGACGCG'\u001b[0m\u001b[0;34m\u001b[0m\u001b[0m\n\u001b[0;32m---> 15\u001b[0;31m \u001b[0mprint\u001b[0m \u001b[0;34m(\u001b[0m\u001b[0;34m\"DNA length inside the function is %s\"\u001b[0m \u001b[0;34m%\u001b[0m \u001b[0;34m(\u001b[0m\u001b[0mlength\u001b[0m\u001b[0;34m)\u001b[0m\u001b[0;34m)\u001b[0m\u001b[0;34m\u001b[0m\u001b[0m\n\u001b[0m",
      "\u001b[0;31mNameError\u001b[0m: name 'length' is not defined"
     ]
    }
   ],
   "source": [
    "#!/usr/bin/env python\n",
    "\n",
    "# Example 8.2 \n",
    "# Name: function_example2.py\n",
    "# Description: A program to demonstrate how a function works\n",
    "\n",
    "def DNA_length(DNA):\n",
    "    \"A function that calculates the length of DNA\"\n",
    "    length = len(DNA)\n",
    "    print (\"DNA length inside the function is %s\" % (length))\n",
    "    return length\n",
    " \n",
    "# use the function\n",
    "gene = 'ATGAGACGTAGTGCCAGTAGCGCGATGTAGCGATGACGCATGACGCG'\n",
    "print (\"DNA length inside the function is %s\" % (length))"
   ]
  },
  {
   "cell_type": "markdown",
   "metadata": {},
   "source": [
    "### Scope of Variables\n",
    "\n",
    "Variables created inside a function occupy their own namespace in memory distinct from variables outside of the function, and so reusing names between the two can be done without you having to keep track of it.   There are two basic scopes of variables in Python - Global variables and Local variables.   Variables that are defined inside a function body have a local scope, and those defined outside have a global scope. This means that local variables can be accessed only inside the function in which they are declared, whereas global variables can be accessed throughout the program body by all functions. In the above example we have not defined length outside of the function, so an error is given when we try to print it outside the function, but it prints just fine within the function.  This means you can use functions written by other people without having to keep track of what variables those functions are using internally.\n"
   ]
  },
  {
   "cell_type": "code",
   "execution_count": 3,
   "metadata": {},
   "outputs": [
    {
     "name": "stdout",
     "output_type": "stream",
     "text": [
      "DNA length inside the function is 47\n",
      "DNA length outside the function is 10\n"
     ]
    }
   ],
   "source": [
    "#!/usr/bin/env python\n",
    "\n",
    "# Example 8.3 \n",
    "# Name: function_example3.py\n",
    "# Description: A program to demonstrate how a function works\n",
    "\n",
    "length = 10\n",
    "\n",
    "def DNA_length(DNA):\n",
    "    \"A function that calculates the length of DNA\"\n",
    "    length = len(DNA)\n",
    "    print(\"DNA length inside the function is %s\" % (length))\n",
    "    return length\n",
    " \n",
    "# use the function\n",
    "gene = 'ATGAGACGTAGTGCCAGTAGCGCGATGTAGCGATGACGCATGACGCG'\n",
    "DNA_length(gene)\n",
    "\n",
    "print('DNA length outside the function is %s' % (length))"
   ]
  },
  {
   "cell_type": "markdown",
   "metadata": {},
   "source": [
    "However, if we did not specify a value for length in the function then the value would be the same as the global value"
   ]
  },
  {
   "cell_type": "code",
   "execution_count": 4,
   "metadata": {},
   "outputs": [
    {
     "name": "stdout",
     "output_type": "stream",
     "text": [
      "DNA length inside the function is 10\n",
      "DNA length outside the function is 10\n"
     ]
    }
   ],
   "source": [
    "#!/usr/bin/env python\n",
    "\n",
    "# Example 8.4 \n",
    "# Name: function_example4.py\n",
    "# Description: A program to demonstrate how a function works\n",
    "\n",
    "length = 10\n",
    "\n",
    "def DNA_length(DNA):\n",
    "    \"A function that calculates the length of DNA\"\n",
    "#    length = len(DNA)\n",
    "    print(\"DNA length inside the function is %s\" % (length))\n",
    "    return length\n",
    " \n",
    "# use the function\n",
    "gene = 'ATGAGACGTAGTGCCAGTAGCGCGATGTAGCGATGACGCATGACGCG'\n",
    "DNA_length(gene)\n",
    "\n",
    "print (\"DNA length outside the function is %s\" % (length))"
   ]
  },
  {
   "cell_type": "markdown",
   "metadata": {},
   "source": [
    "The order in which a function appears is important and must preceed the call of the function.  The following example puts out an error. "
   ]
  },
  {
   "cell_type": "code",
   "execution_count": 5,
   "metadata": {},
   "outputs": [
    {
     "name": "stdout",
     "output_type": "stream",
     "text": [
      "DNA length inside the function is 10\n",
      "DNA length is 10\n"
     ]
    }
   ],
   "source": [
    "#!/usr/bin/env python\n",
    "\n",
    "# Example 8.5 \n",
    "# Name: function_example5.py\n",
    "# Description: A program to demonstrate how a function works\n",
    "\n",
    "# use the function\n",
    "gene = 'ATGAGACGTAGTGCCAGTAGCGCGATGTAGCGATGACGCATGACGCG'\n",
    "DNA_length(gene)\n",
    "print(\"DNA length is %s\" % (length))\n",
    "\n",
    "def DNA_length(DNA):\n",
    "    \"A function that calculates the length of DNA\"\n",
    "    length = len(DNA)\n",
    "    return length\n",
    " \n"
   ]
  },
  {
   "cell_type": "markdown",
   "metadata": {},
   "source": [
    "### Function Arguments\n",
    "\n",
    "Last week when we entered multiple arguments when we ran a program.  Functions can also have multiple arguments and returns multiple \n"
   ]
  },
  {
   "cell_type": "code",
   "execution_count": 6,
   "metadata": {},
   "outputs": [
    {
     "name": "stdout",
     "output_type": "stream",
     "text": [
      "7\n",
      "17\n"
     ]
    }
   ],
   "source": [
    "#!/usr/bin/env python\n",
    "\n",
    "# Example 8.6 \n",
    "# Name: function_sum.py\n",
    "# Description: A program that takes 2 inputs for a function\n",
    "\n",
    "def sum(x,y):\n",
    "    z = x + y\n",
    "    return z\n",
    "\n",
    "print(sum(2,5))\n",
    "print(sum(7,10))"
   ]
  },
  {
   "cell_type": "markdown",
   "metadata": {},
   "source": [
    "Required arguments are the arguments passed to a function in correct positional order. The number of arguments in the function call should match exactly with the function definition.  Thus the following example returns an error"
   ]
  },
  {
   "cell_type": "code",
   "execution_count": 7,
   "metadata": {},
   "outputs": [
    {
     "ename": "TypeError",
     "evalue": "sum() missing 1 required positional argument: 'y'",
     "output_type": "error",
     "traceback": [
      "\u001b[1;31m---------------------------------------------------------------------------\u001b[0m",
      "\u001b[1;31mTypeError\u001b[0m                                 Traceback (most recent call last)",
      "\u001b[1;32m<ipython-input-7-f6e805b7eb9b>\u001b[0m in \u001b[0;36m<module>\u001b[1;34m()\u001b[0m\n\u001b[0;32m      9\u001b[0m     \u001b[1;32mreturn\u001b[0m \u001b[0mz\u001b[0m\u001b[1;33m\u001b[0m\u001b[0m\n\u001b[0;32m     10\u001b[0m \u001b[1;33m\u001b[0m\u001b[0m\n\u001b[1;32m---> 11\u001b[1;33m \u001b[0mprint\u001b[0m \u001b[1;33m(\u001b[0m\u001b[0msum\u001b[0m\u001b[1;33m(\u001b[0m\u001b[1;36m5\u001b[0m\u001b[1;33m)\u001b[0m\u001b[1;33m)\u001b[0m\u001b[1;33m\u001b[0m\u001b[0m\n\u001b[0m",
      "\u001b[1;31mTypeError\u001b[0m: sum() missing 1 required positional argument: 'y'"
     ]
    }
   ],
   "source": [
    "#!/usr/bin/env python\n",
    "\n",
    "# Example 8.7 \n",
    "# Name: function_sum2.py\n",
    "# Description: A program that takes 2 inputs for a function\n",
    "\n",
    "def sum(x,y):\n",
    "    z = x + y\n",
    "    return z\n",
    "\n",
    "print(sum(5))"
   ]
  },
  {
   "cell_type": "markdown",
   "metadata": {},
   "source": [
    "The order is also very important in the below example the variables are called out of order."
   ]
  },
  {
   "cell_type": "code",
   "execution_count": 8,
   "metadata": {},
   "outputs": [
    {
     "name": "stdout",
     "output_type": "stream",
     "text": [
      "-3\n"
     ]
    }
   ],
   "source": [
    "#!/usr/bin/env python\n",
    "\n",
    "# Example 8.8 \n",
    "# Name: function_subtract.py\n",
    "# Description: A program that takes 2 inputs for a function\n",
    "\n",
    "def subtract(x,y):\n",
    "    z = x - y\n",
    "    return z\n",
    "\n",
    "x = 5\n",
    "y = 2\n",
    "print(subtract(y,x))"
   ]
  },
  {
   "cell_type": "markdown",
   "metadata": {},
   "source": [
    "### How to pack and unpack multiple values from returns or multiple assignments\n",
    "\n",
    "Just like with arguments from the comment line, multiple values returned from the function can be accessed as individually."
   ]
  },
  {
   "cell_type": "code",
   "execution_count": 9,
   "metadata": {},
   "outputs": [
    {
     "name": "stdout",
     "output_type": "stream",
     "text": [
      "(70, 0)\n",
      "(70, 0)\n",
      "70\n",
      "0\n"
     ]
    }
   ],
   "source": [
    "#!/usr/bin/env python\n",
    "\n",
    "# Example 8.9 \n",
    "# Name: function_protein_stats.py\n",
    "# Description: A program with a function that returns 2 arguments\n",
    "\n",
    "def protein_stats(protein):\n",
    "    \"A function to calculate protein statistics\"\n",
    "    protein_length =  len(protein)\n",
    "    sum_pos = protein.count('R'+'H'+'K')\n",
    "    sum_neg = protein.count('D'+'E')\n",
    "    charge = sum_pos - sum_neg\n",
    "    return (protein_length, charge)\n",
    "\n",
    "gene = 'MKSLIQEKWNEILEFLKIEYNVTEVSYKTWLLPLKVYDVKDNVIKLSVDDTKIGANSLDFIKNKYSQFLK'\n",
    "print(protein_stats(gene))\n",
    "\n",
    "protein_results = protein_stats(gene)\n",
    "\n",
    "print(protein_results)\n",
    "print(protein_results[0])\n",
    "print(protein_results[1])\n"
   ]
  },
  {
   "cell_type": "markdown",
   "metadata": {},
   "source": [
    "We can also return values as a list with very similar results.  In the above example the results are returned as a tuple which is a list that can not be modified.  In the below example the values are returned as a list and we can use all of the list functions such as append and sort."
   ]
  },
  {
   "cell_type": "code",
   "execution_count": 10,
   "metadata": {},
   "outputs": [
    {
     "name": "stdout",
     "output_type": "stream",
     "text": [
      "[70, 0]\n",
      "70\n",
      "0\n"
     ]
    }
   ],
   "source": [
    "#!/usr/bin/env python\n",
    "\n",
    "# Example 8.10 \n",
    "# Name: function_protein_stats_list.py\n",
    "# Description: A program with a function that returns 2 arguments as a list\n",
    "\n",
    "def protein_stats(protein):\n",
    "    \"A function to calculate protein statistics\"\n",
    "    protein_length = len(protein)\n",
    "    sum_pos = protein.count('R'+'H'+'K')\n",
    "    sum_neg = protein.count('D'+'E')\n",
    "    charge = sum_pos - sum_neg\n",
    "    return [protein_length, charge] # The square brackets specify that we are returning a list\n",
    "\n",
    "gene = 'MKSLIQEKWNEILEFLKIEYNVTEVSYKTWLLPLKVYDVKDNVIKLSVDDTKIGANSLDFIKNKYSQFLK'\n",
    "\n",
    "protein_results = protein_stats(gene)\n",
    "\n",
    "print(protein_results)\n",
    "print(protein_results[0])\n",
    "print(protein_results[1])\n"
   ]
  },
  {
   "cell_type": "markdown",
   "metadata": {},
   "source": [
    "Here is another example of returning a list "
   ]
  },
  {
   "cell_type": "code",
   "execution_count": 11,
   "metadata": {},
   "outputs": [
    {
     "name": "stdout",
     "output_type": "stream",
     "text": [
      "['MSCNEAAVIRLRHHLKGRR_', '_VVMRLP_YDYGII_RAGG', 'EL__GCRDTITASFKGQEV']\n"
     ]
    }
   ],
   "source": [
    "#!/usr/bin/env python\n",
    "\n",
    "# Example 8.11 \n",
    "# Name: function_translate_DNA_3frames.py\n",
    "# Description: A program with a function that translates DNA in the first 3 frames\n",
    "\n",
    "\n",
    "def translate_3frames(DNA):\n",
    "    \"A function to translate DNA into a protein sequence in 3 frames\"\n",
    "    \n",
    "    codon_table = {'ATA':'I', 'ATC':'I', 'ATT':'I', 'ATG':'M',\n",
    "    'ACA':'T', 'ACC':'T', 'ACG':'T', 'ACT':'T',\n",
    "    'AAC':'N', 'AAT':'N', 'AAA':'K', 'AAG':'K',\n",
    "    'AGC':'S', 'AGT':'S', 'AGA':'R', 'AGG':'R',\n",
    "    'CTA':'L', 'CTC':'L', 'CTG':'L', 'CTT':'L',\n",
    "    'CCA':'P', 'CCC':'P', 'CCG':'P', 'CCT':'P',\n",
    "    'CAC':'H', 'CAT':'H', 'CAA':'Q', 'CAG':'Q',\n",
    "    'CGA':'R', 'CGC':'R', 'CGG':'R', 'CGT':'R',\n",
    "    'GTA':'V', 'GTC':'V', 'GTG':'V', 'GTT':'V',\n",
    "    'GCA':'A', 'GCC':'A', 'GCG':'A', 'GCT':'A',\n",
    "    'GAC':'D', 'GAT':'D', 'GAA':'E', 'GAG':'E',\n",
    "    'GGA':'G', 'GGC':'G', 'GGG':'G', 'GGT':'G',\n",
    "    'TCA':'S', 'TCC':'S', 'TCG':'S', 'TCT':'S',\n",
    "    'TTC':'F', 'TTT':'F', 'TTA':'L', 'TTG':'L',\n",
    "    'TAC':'Y', 'TAT':'Y', 'TAA':'_', 'TAG':'_',\n",
    "    'TGC':'C', 'TGT':'C', 'TGA':'_', 'TGG':'W'}\n",
    "    \n",
    "    #Initialize the protein list\n",
    "    list_protein = []\n",
    "    \n",
    "    # starting coordinates for codon 1 in the first reading frame\n",
    "    for x in range(3) :\n",
    "   \n",
    "        # Intitial the amino acid string\n",
    "        protein = ''\n",
    "\n",
    "        # Get the length of the DNA to use in the loop\n",
    "        length = len(DNA)\n",
    "    \n",
    "        # A loop to get the codon and increment the DNA position by 3\n",
    "        while x + 3 <= length :\n",
    "            codon = DNA[x:x+3]\n",
    "            AA = codon_table[codon]\n",
    "            protein += AA\n",
    "            x += 3\n",
    "        list_protein.append(protein)\n",
    "    return (list_protein)\n",
    "\n",
    "gene = 'ATGAGTTGTAATGAGGCTGCCGTGATACGATTACGGCATCATTTAAAGGGCAGGAGGTAG'\n",
    "print (translate_3frames(gene))"
   ]
  },
  {
   "cell_type": "markdown",
   "metadata": {},
   "source": [
    "## 7.2 Modules\n",
    "\n",
    "In all of the examples above, we defined our functions right above the code that we hoped to execute. If you have many functions, you can see how this would get messy in a hurry. Furthermore, part of the benefit of functions is that you can call them multiple times within a program to execute the same operations without tiresomely writing them all out again. But wouldn't it be nice to share functions across programs, too? For example, working with genomic data often means getting sequences out of FASTA files, and shuttling those sequences from program to program. Many of the programs we work with overlap to a significant degree, as they need to parse FASTA files, calculate evolutionary rates, and interface with our lab servers, for example -- all of which means that many of them share functions. And if the same function exists in two or more different programs, we hit the same problems that we hit before: complex debugging, decreased readability, and, of course, too much typing.\n",
    "\n",
    "Modules solve these problems. In short, they're collections of functions and variables (and often objects, which we'll get to towards the end of the course) that are kept together in a single file that can be read and imported by any number of programs.  We have already started working with modules such are re and sys that come with many installations of python. We can also create our own modules.\n",
    "\n",
    "Any file of python code with a .py extension can be imported as a module from your script. When you invoke an import operation from a program, all the statements in the imported module are executed immediately. You have to be careful though with your names.  For instance in Lab 4 we created a program called random.py and then imported random.  Our program loaded our own random module random.py rather than the module that came with Python.  \n",
    "\n",
    "<pre>\n",
    "# My simple math modules\n",
    "\n",
    "def add(x,y):\n",
    "    z = x + y\n",
    "    return z\n",
    "\n",
    "def subtract(x,y):\n",
    "    z = x - y\n",
    "    return z\n",
    "</pre>\n",
    "\n",
    "Save the above text as my_simple_math_module.py to use in the program below"
   ]
  },
  {
   "cell_type": "code",
   "execution_count": 12,
   "metadata": {},
   "outputs": [
    {
     "name": "stdout",
     "output_type": "stream",
     "text": [
      "15\n",
      "5\n"
     ]
    }
   ],
   "source": [
    "#!/usr/bin/env python\n",
    "\n",
    "# Example 8.12 \n",
    "# Name: test_my_simple_math_module.py\n",
    "# Description: A program that tests our modules\n",
    "\n",
    "import my_simple_math_module\n",
    "\n",
    "print (my_simple_math_module.add(10,5))\n",
    "\n",
    "print (my_simple_math_module.subtract(10,5))\n"
   ]
  },
  {
   "cell_type": "markdown",
   "metadata": {},
   "source": [
    "The syntax can be cleaned up somewhat by importing the specific function and thus dropping the name of the file"
   ]
  },
  {
   "cell_type": "code",
   "execution_count": 13,
   "metadata": {},
   "outputs": [
    {
     "name": "stdout",
     "output_type": "stream",
     "text": [
      "15\n"
     ]
    }
   ],
   "source": [
    "#!/usr/bin/env python\n",
    "\n",
    "# Example 8.13 \n",
    "# Name: test_my_simple_math_module2.py\n",
    "# Description: A program that tests our modules\n",
    "\n",
    "from my_simple_math_module import add \n",
    "\n",
    "print (add(10,5))\n"
   ]
  },
  {
   "cell_type": "markdown",
   "metadata": {},
   "source": [
    "## Exercises\n",
    "\n",
    "Use the following DNA in exercise 1-3.\n",
    "\n",
    "ATGAGTTGTAATGAGGCTGCCGTGATACGATTACGGCATCATTTAAAGGGCAGGAGGTAG\n",
    "\n",
    "1. Write a program with a function codon_number the divides the length of a gene by 3 and returns the value as an integer back to the main program for printing. Save this function as a module and call the function from the saved module.\n",
    "2. Write a program with a function revcomp that takes as input a DNA sequence and returns the reverse complement (as DNA).\n",
    "3. Write a program using functions that translates the above DNA sequence in all sequence reading frames stores the results in a dictionary and then prints the dictionary\n"
   ]
  },
  {
   "cell_type": "markdown",
   "metadata": {},
   "source": [
    "* Next - <a href=\"http://nbviewer.ipython.org/github/jeffreyblanchard/EvoGenV5/blob/master/EvoGen5_Lab7.ipynb\">Lab 7 : Dictionaries</a>\n",
    "* Previous - <a href=\"http://nbviewer.ipython.org/github/jeffreyblanchard/EvoGenV5/blob/master/EvoGenV5_Lab9.ipynb\">Lab 9 : Regular Expressions</a> "
   ]
  }
 ],
 "metadata": {
  "kernelspec": {
   "display_name": "Python 3",
   "language": "python",
   "name": "python3"
  },
  "language_info": {
   "codemirror_mode": {
    "name": "ipython",
    "version": 3
   },
   "file_extension": ".py",
   "mimetype": "text/x-python",
   "name": "python",
   "nbconvert_exporter": "python",
   "pygments_lexer": "ipython3",
   "version": "3.6.6"
  }
 },
 "nbformat": 4,
 "nbformat_minor": 1
}
