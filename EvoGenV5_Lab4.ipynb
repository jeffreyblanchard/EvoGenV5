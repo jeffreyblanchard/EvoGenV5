{
 "cells": [
  {
   "cell_type": "markdown",
   "metadata": {
    "collapsed": true
   },
   "source": [
    "# Session 4 : Detecting Selection with Loops\n",
    "\n",
    "## Learning Objectives\n",
    "\n",
    "* Loops"
   ]
  },
  {
   "cell_type": "markdown",
   "metadata": {},
   "source": [
    "## 4.1 Loops\n",
    "\n",
    "Often we need to iterate over lists\n",
    "\n",
    "### For Loops\n",
    "The syntax of a for loop look is as follows:\n",
    "\n",
    "<pre>\n",
    "for iterating_var in sequence:\n",
    "    statements(s)\n",
    "</pre>"
   ]
  },
  {
   "cell_type": "code",
   "execution_count": 1,
   "metadata": {},
   "outputs": [
    {
     "name": "stdout",
     "output_type": "stream",
     "text": [
      "A\n",
      "G\n",
      "T\n",
      "C\n",
      "T\n",
      "C\n"
     ]
    }
   ],
   "source": [
    "#!/usr/bin/env python\n",
    "\n",
    "# Example 4.1\n",
    "# Name: for_loops.py\n",
    "# Description:  This programs demonstrates for loops\n",
    "\n",
    "# for loops with a string\n",
    "\n",
    "DNA = 'AGTCTC'\n",
    "\n",
    "for base in DNA :\n",
    "    print (base)\n"
   ]
  },
  {
   "cell_type": "code",
   "execution_count": 2,
   "metadata": {},
   "outputs": [
    {
     "name": "stdout",
     "output_type": "stream",
     "text": [
      "7\n"
     ]
    }
   ],
   "source": [
    "#!/usr/bin/env python\n",
    "\n",
    "# Example 4.2\n",
    "# Name: for_loops2.py\n",
    "# Description:  This programs demonstrates for loops with the range functions\n",
    "\n",
    "# for loops with a string\n",
    "\n",
    "for num in range(5,10) : \n",
    "    if num == 7 :\n",
    "        print (num)  "
   ]
  },
  {
   "cell_type": "markdown",
   "metadata": {},
   "source": [
    "### While Loops\n",
    "\n",
    "A while loop statement in Python programming language repeatedly executes a target statement as long as a given condition is true.  The syntax of a while loop in Python programming language is:\n",
    "\n",
    "<pre>\n",
    "while expression:\n",
    "   statement(s)\n",
    "</pre>\n",
    "\n",
    "Here, statement(s) may be a single statement or a block of statements. The condition may be any expression, and true is any non-zero value. The loop iterates while the condition is true.  When the condition becomes false, program control passes to the line immediately following the loop."
   ]
  },
  {
   "cell_type": "code",
   "execution_count": 3,
   "metadata": {},
   "outputs": [
    {
     "name": "stdout",
     "output_type": "stream",
     "text": [
      "0\n",
      "1\n",
      "2\n",
      "3\n",
      "4\n"
     ]
    }
   ],
   "source": [
    "#!/usr/bin/env python\n",
    "\n",
    "# Example 4.3\n",
    "# Name: while_loops.py\n",
    "# Description:  This programs demonstrates while expressions \n",
    "\n",
    "# initialize count\n",
    "\n",
    "count = 0\n",
    "\n",
    "while (count < 5):\n",
    "   print (count)\n",
    "   count = count + 1"
   ]
  },
  {
   "cell_type": "code",
   "execution_count": 4,
   "metadata": {},
   "outputs": [
    {
     "name": "stdout",
     "output_type": "stream",
     "text": [
      "AGTTGTAATGAGGCTGCCGTGATA\n",
      "TGTTGTAATGAGCCTGCCGTGATT\n",
      "*...........*..........*\n",
      "\n"
     ]
    }
   ],
   "source": [
    "#!/usr/bin/env python\n",
    "\n",
    "# Example 4.4\n",
    "# find_polymorphism.py\n",
    "# A program uses a while loop find all differences between 2 sequences\n",
    "\n",
    "DNA1 = 'AGTTGTAATGAGGCTGCCGTGATA'\n",
    "DNA3 = 'TGTTGTAATGAGCCTGCCGTGATT'\n",
    "\n",
    "# Get the length of the DNA to use in the loop\n",
    "length = len(DNA1)\n",
    "# initialize count\n",
    "count = 0\n",
    "# initialize pattern\n",
    "PATTERN = ''\n",
    "\n",
    "while count < length :\n",
    "    if DNA1[count] != DNA3[count] :\n",
    "        PATTERN = PATTERN + '*'\n",
    "    else :\n",
    "        PATTERN = PATTERN + '.'\n",
    "    count = count + 1\n",
    "\n",
    "print ('%s\\n%s\\n%s\\n' % (DNA1, DNA3, PATTERN))"
   ]
  },
  {
   "cell_type": "code",
   "execution_count": 5,
   "metadata": {},
   "outputs": [
    {
     "name": "stdout",
     "output_type": "stream",
     "text": [
      "AGT\n",
      "TGT\n",
      "AAT\n",
      "GAG\n",
      "GCT\n",
      "GCC\n",
      "GTG\n",
      "ATA\n"
     ]
    }
   ],
   "source": [
    "#!/usr/bin/env python\n",
    "\n",
    "# Example 4.5\n",
    "# extract_codon.py\n",
    "# A program uses a while loop to extract each codon\n",
    "\n",
    "DNA = 'AGTTGTAATGAGGCTGCCGTGATA'\n",
    "\n",
    "# starting coordinates for codon 1 in the first reading frame\n",
    "x = 0\n",
    "y = 3\n",
    "\n",
    "# Get the length of the DNA to use in the loop\n",
    "length = len(DNA)\n",
    "\n",
    "# A loop to get the codon and increment the DNA position by 3\n",
    "while y <= length :\n",
    "    codon = DNA[x:y]\n",
    "    print (codon)\n",
    "    x = x + 3\n",
    "    y = y + 3"
   ]
  },
  {
   "cell_type": "markdown",
   "metadata": {},
   "source": [
    "### Nested Loops\n",
    "\n",
    "A loop within a loop seems plain loopy, but there are reasons for doing this such working with each codon position.\n"
   ]
  },
  {
   "cell_type": "code",
   "execution_count": 6,
   "metadata": {},
   "outputs": [
    {
     "name": "stdout",
     "output_type": "stream",
     "text": [
      "The nucleotides in codon position 0 are ATAGGGGA\n",
      "\n",
      "The nucleotides in codon position 1 are GGAACCTT\n",
      "\n",
      "The nucleotides in codon position 2 are TTTGTCGA\n",
      "\n"
     ]
    }
   ],
   "source": [
    "#!/usr/bin/env python\n",
    "\n",
    "# Example 4.6\n",
    "# nested_loop.py\n",
    "# A program shows a nested loop\n",
    "\n",
    "DNA = 'AGTTGTAATGAGGCTGCCGTGATA'\n",
    "\n",
    "# A loop to print out each codon site\n",
    "for initial_codon in range(0,3) :\n",
    "    nucleotides = ''\n",
    "    y = initial_codon\n",
    "    while y < len(DNA) :\n",
    "        DNA[y]\n",
    "        nucleotides = nucleotides + DNA[y]\n",
    "        y += 3\n",
    "    print ('The nucleotides in codon position %s are %s\\n' % (initial_codon, nucleotides))\n"
   ]
  },
  {
   "cell_type": "markdown",
   "metadata": {},
   "source": [
    "### Beware of the Infinite Loop!   \n",
    "A loop becomes infinite loop if a condition never becomes false. This results in a loop that never ends.  If you find yourselve in that situation either hit control C or close down your terminal/command prompt window.  "
   ]
  },
  {
   "cell_type": "markdown",
   "metadata": {},
   "source": [
    "## Exercises\n",
    "\n",
    "For the exercise you the Drosophila alcohol dehydrogenase sequences in the file on the Moodle site - lab3_and_lab4_exercise_sequences.txt (from the McDonald and Kreitman paper) for the following exercises.\n",
    "\n",
    "1. Write a while loop that prints the first sequence in increments of 50 nucleotides per line.\n",
    "\n",
    "2. Write a program using loops that prints the 6 sequences 50 nucleotides at a time in an interleaved format typical of sequence alignment programs (e.g. 50 from the first sequence followed by 50 from the next sequence...)\n",
    "\n",
    "2. Building on Ex 3.3. Determine whether a site is polymorphic at codon position 1, 2 or 3 and calculate the total number of substitions at each codon position.  Assuming the beginning of the sequence is codon position 1. Is this result what you would expect for the substitution frequency if third codon positions were under less selection than first and second codon positions (which will likely change the amino acid)?"
   ]
  },
  {
   "cell_type": "markdown",
   "metadata": {},
   "source": [
    "* Next - <a href=\"http://nbviewer.ipython.org/github/jeffreyblanchard/EvoGenV5/blob/master/EvoGenV5_Lab5.ipynb\">Session 5 : Lists</a>\n",
    "* Previous - <a href=\"http://nbviewer.ipython.org/github/jeffreyblanchard/EvoGenV5/blob/master/EvoGenV5_Lab3.ipynb\">Session 3 : Detecting DNA Polymorphisms - Conditional Statements</a> "
   ]
  }
 ],
 "metadata": {
  "kernelspec": {
   "display_name": "Python 3",
   "language": "python",
   "name": "python3"
  },
  "language_info": {
   "codemirror_mode": {
    "name": "ipython",
    "version": 3
   },
   "file_extension": ".py",
   "mimetype": "text/x-python",
   "name": "python",
   "nbconvert_exporter": "python",
   "pygments_lexer": "ipython3",
   "version": "3.6.5"
  }
 },
 "nbformat": 4,
 "nbformat_minor": 1
}
