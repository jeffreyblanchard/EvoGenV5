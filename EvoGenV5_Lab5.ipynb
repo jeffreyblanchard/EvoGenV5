{
 "cells": [
  {
   "cell_type": "markdown",
   "metadata": {},
   "source": [
    "# Session 5 - User Input and Lists\n",
    "\n",
    "## Learning Objectives\n",
    "\n",
    "* Getting user input\n",
    "* Lists"
   ]
  },
  {
   "cell_type": "markdown",
   "metadata": {},
   "source": [
    "## 5.1 Getting input from the user\n",
    "\n",
    "While there are several ways to gather data from the outside world, the simplest is to just ask. In Python, a program asks for information from the user with the raw_input() function. "
   ]
  },
  {
   "cell_type": "code",
   "execution_count": 1,
   "metadata": {},
   "outputs": [
    {
     "name": "stdout",
     "output_type": "stream",
     "text": [
      "Hello!  What is your name? Jeff\n",
      "Nice to meet you Jeff.\n"
     ]
    }
   ],
   "source": [
    "#!/usr/bin/env python\n",
    "\n",
    "# Example 5.1 \n",
    "# Name: user_input.py\n",
    "# Description:  This program asks the user their name, \n",
    "# captures the response and prints a greeting\n",
    "\n",
    "# Ask the program users a question and get information\n",
    "# from the terminal or command prompt into the program\n",
    "user = input(\"Hello!  What is your name? \")\n",
    "    \n",
    "# Print a response to the user    \n",
    "print ('Nice to meet you %s.' % (user))"
   ]
  },
  {
   "cell_type": "markdown",
   "metadata": {},
   "source": [
    "## 5.2 Lists\n",
    "\n",
    "Variables types that we used last session consisted of strings, integers and floating point numbers.  Variable contain just one item, even if it is incredibly big. One way to organize variable is the use of LISTS, as in a shopping list.  Lists consists of multiple variables (items)."
   ]
  },
  {
   "cell_type": "code",
   "execution_count": 2,
   "metadata": {},
   "outputs": [
    {
     "name": "stdout",
     "output_type": "stream",
     "text": [
      "The nucleotides in DNA are ['A', 'C', 'G', 'T'].\n"
     ]
    }
   ],
   "source": [
    "#!/usr/bin/env python\n",
    "\n",
    "# Example 5.2\n",
    "# Name: list_nucleotides.py\n",
    "# Description:  This program prints a list of nucleotides\n",
    "\n",
    "# A set of nucleotides\n",
    "nucleotides = ['A','C','G','T']\n",
    "    \n",
    "#     \n",
    "print ('The nucleotides in DNA are %s.' % (nucleotides))"
   ]
  },
  {
   "cell_type": "markdown",
   "metadata": {},
   "source": [
    "Just like we saw with strings there are many similar manipulations that can be done on lists.  1) The built-in functions len(), max() and min() tell us how many items are in the list and the maximum and minimum values in the list.  The list method index() tells us where an item is in the list.  Here are some other commonly used list methods."
   ]
  },
  {
   "cell_type": "markdown",
   "metadata": {},
   "source": [
    "Commonly used list methods\n",
    "\n",
    "* list.append(elem) -- adds a single element to the end of the list. Common error: does not return the new list, just modifies the original.\n",
    "* list.insert(index, elem) -- inserts the element at the given index, shifting elements to the right.\n",
    "* list.extend(list2) adds the elements in list2 to the end of the list. Using + or += on a list is similar to using extend().\n",
    "* list.index(elem) -- searches for the given element from the start of the list and returns its index. Throws a ValueError if the element does not appear (use \"in\" to check without a ValueError).\n",
    "* list.remove(elem) -- searches for the first instance of the given element and removes it (throws ValueError if not present)\n",
    "* list.sort() -- sorts the list in place (does not return it). \n",
    "* list.reverse() -- reverses the list in place (does not return it)\n",
    "* list.pop(index) -- removes and returns the element at the given index. Returns the rightmost element if index is omitted (roughly the opposite of append()).\n"
   ]
  },
  {
   "cell_type": "code",
   "execution_count": 3,
   "metadata": {},
   "outputs": [
    {
     "name": "stdout",
     "output_type": "stream",
     "text": [
      "The list of nucelotides is ['A', 'C', 'G', 'T']\n",
      "The length of the list is 4\n",
      "The max value in the list is T\n",
      "The min value in the list is A\n",
      "The position of T is 3\n",
      "The appended list is ['A', 'C', 'G', 'T', 'N']\n",
      "The list after removing A is ['C', 'G', 'T', 'N']\n",
      "The sorted list is ['C', 'G', 'N', 'T']\n",
      "The popped base is C\n",
      "The list after popping index position 0 is ['G', 'N', 'T']\n"
     ]
    }
   ],
   "source": [
    "#!/usr/bin/env python\n",
    "\n",
    "# Example 5.3\n",
    "# Name: list_methods_strings.py\n",
    "# Description:  This programs demonstrates list methods\n",
    "\n",
    "# A list of nucleotides\n",
    "nucleotides = ['A','C','G','T']\n",
    "\n",
    "print ('The list of nucelotides is', nucleotides)\n",
    "\n",
    "print ('The length of the list is', len(nucleotides))\n",
    "\n",
    "print ('The max value in the list is', max(nucleotides))\n",
    "\n",
    "print ('The min value in the list is', min(nucleotides))\n",
    "\n",
    "x = nucleotides.index('T')\n",
    "print ('The position of T is', x)\n",
    "\n",
    "nucleotides.append('N')\n",
    "print ('The appended list is', nucleotides)\n",
    "\n",
    "nucleotides.remove('A')\n",
    "print ('The list after removing A is', nucleotides)\n",
    "\n",
    "nucleotides.sort()\n",
    "print ('The sorted list is', nucleotides)\n",
    "\n",
    "# Note just like strings, lists which begin counting at zero\n",
    "base = nucleotides.pop(0)\n",
    "print ('The popped base is', base)\n",
    "print ('The list after popping index position 0 is', nucleotides)"
   ]
  },
  {
   "cell_type": "code",
   "execution_count": 5,
   "metadata": {},
   "outputs": [
    {
     "name": "stdout",
     "output_type": "stream",
     "text": [
      "[5, 12, 25, 60]\n",
      "4\n",
      "60\n",
      "5\n",
      "5\n",
      "12\n",
      "25\n",
      "60\n"
     ]
    }
   ],
   "source": [
    "#!/usr/bin/env python\n",
    "\n",
    "# Example 5.4\n",
    "# Name: list_methods_integers.py\n",
    "# Description:  This programs demonstrates list methods on integers\n",
    "\n",
    "# A list of integers\n",
    "values = [5, 12, 25, 60]\n",
    "\n",
    "print (values)\n",
    "\n",
    "print (len(values))\n",
    "print (max(values))\n",
    "print (min(values))\n",
    "\n",
    "#Here is a ways to print lists without getting the default brackets\n",
    "\n",
    "for x in values: \n",
    "    print(x)"
   ]
  },
  {
   "cell_type": "markdown",
   "metadata": {},
   "source": [
    "## 5.3 Loops and Lists\n",
    "\n",
    "Often we need to iterate over lists. It is much like looping in strings."
   ]
  },
  {
   "cell_type": "code",
   "execution_count": 5,
   "metadata": {},
   "outputs": [
    {
     "name": "stdout",
     "output_type": "stream",
     "text": [
      "# for looping lists\n",
      "Adenine\n",
      "Cytosine\n",
      "Guanine\n",
      "Thymine\n",
      "# while loopy\n",
      "0\n",
      "Adenine\n",
      "1\n",
      "Cytosine\n",
      "2\n",
      "Guanine\n",
      "3\n",
      "Thymine\n",
      "# iffy loops\n",
      "This is a short list of 4 nucleotides\n"
     ]
    }
   ],
   "source": [
    "#!/usr/bin/env python\n",
    "\n",
    "# Example 5.5\n",
    "# Name: for_loops.py\n",
    "# Description:  This programs demonstrates for loops\n",
    "\n",
    "# for looping lists\n",
    "print ('# for looping lists')\n",
    "nucleotides = ['Adenine','Cytosine','Guanine','Thymine']\n",
    "\n",
    "for base in nucleotides :\n",
    "    print (base)\n",
    "    \n",
    "\n",
    "# while loopy\n",
    "print ('# while loopy')\n",
    "count = 0\n",
    "\n",
    "while (count < len(nucleotides)):\n",
    "    print (count)\n",
    "    print (nucleotides[count])\n",
    "    count = count + 1\n",
    "    \n",
    "\n",
    "# iffy loops\n",
    "print ('# iffy loops')\n",
    "if len(nucleotides) < 100 :\n",
    "    print ('This is a short list of %s nucleotides' % len(nucleotides))\n",
    "else :\n",
    "    print ('This is a long list of %s nucleotides' % len(nucleotides))\n"
   ]
  },
  {
   "cell_type": "markdown",
   "metadata": {},
   "source": [
    "## Exercises\n",
    "\n",
    "1. Write a program that first ask the user for a name and then ask a user for a telephone number. For the output ask the user if the telephone number is correct and if it is not correct keep trying for 3 times before exiting. If it is correct say thank you.\n",
    "\n",
    "2. You can make lists of strings. Write a program that has the six DNA sequences from Lab 3 and 4. Make a list of the sequences variable names. Modify program 4.2 to make use of the list of sequence names.\n",
    "\n",
    "3. Write a program that asks the user for five words, one word at a time, puts the words into a list, then prints out the list in alphabetical order. Hint1: Before you can append to a list, you will need to create an empty list using : words = [ ].  Hint2 : For a nice user interface you can include the word number as in : word = input('Please input word ' + str(num) + ': ' ) \n"
   ]
  },
  {
   "cell_type": "markdown",
   "metadata": {},
   "source": [
    "* Next - <a href=\"http://nbviewer.ipython.org/github/jeffreyblanchard/EvoGenV5/blob/master/EvoGenV5_Lab6.ipynb\">Session 6 : Random Mutations</a>\n",
    "* Previous - <a href=\"http://nbviewer.ipython.org/github/jeffreyblanchard/EvoGenV5/blob/master/EvoGenV5_Lab4.ipynb\">Session 4 : Detecting Selection with Loops</a>\n"
   ]
  }
 ],
 "metadata": {
  "kernelspec": {
   "display_name": "Python 3",
   "language": "python",
   "name": "python3"
  },
  "language_info": {
   "codemirror_mode": {
    "name": "ipython",
    "version": 3
   },
   "file_extension": ".py",
   "mimetype": "text/x-python",
   "name": "python",
   "nbconvert_exporter": "python",
   "pygments_lexer": "ipython3",
   "version": "3.6.5"
  }
 },
 "nbformat": 4,
 "nbformat_minor": 1
}
