{
 "cells": [
  {
   "cell_type": "markdown",
   "metadata": {
    "collapsed": true
   },
   "source": [
    "# Session 3 : Detecting DNA Polymorphisms - Conditional Statements\n",
    "\n",
    "## Learning Objectives\n",
    "\n",
    "* Escapes\n",
    "* Conditional statements"
   ]
  },
  {
   "cell_type": "markdown",
   "metadata": {},
   "source": [
    "## 3.3 Escape characters\n",
    "\n",
    "Non-printable characters like line breaks are called escapes that can be represented using backslash notation.  We will make frequent use of\n",
    "\n",
    "    \\n\tNew line\n",
    "    \\t\tTab\n",
    "\n",
    "An escape character gets interpreted in a single quoted as well as double and triple quoted strings.   See the python documentation for a complete list of escape characters.  The backslash can also be used to negate the effect of a special character which is particular useful in printing.  A backslash can also be used to print a single or double quote without resorting to triple quotes.\n"
   ]
  },
  {
   "cell_type": "code",
   "execution_count": 1,
   "metadata": {},
   "outputs": [
    {
     "name": "stdout",
     "output_type": "stream",
     "text": [
      "Hello \n",
      " world!\n",
      "Hello \t\t world!\n",
      "Hello \\n world!\n",
      "I'm here!\n"
     ]
    }
   ],
   "source": [
    "#!/usr/bin/env python\n",
    "\n",
    "# Example 3.1\n",
    "# Name: escape_characters.py\n",
    "# Description: A program to test escape characters\n",
    "\n",
    "print ('Hello \\n world!')\n",
    "print ('Hello \\t\\t world!')\n",
    "print ('Hello \\\\n world!')\n",
    "print ('I\\'m here!')"
   ]
  },
  {
   "cell_type": "markdown",
   "metadata": {},
   "source": [
    "## 3.2 Flow Control\n",
    "\n",
    "Two of the most essential components of programming are logic and repetition. To add these to your Python programs, there are three key words that you will need: <b>if</b>, <b>for</b>, and <b>while</b>.  \n",
    "\n",
    "A program executes from the first statement at the top of the program to the last statement at the bottom, in order, unless told to do otherwise. You can control the order in which the statements of a program are executed by using conditional statements and loops. A conditional statement executes a group of statements only if the conditional test succeeds; otherwise, it just skips the group of statements.\n",
    "\n",
    "A conditional evaluates whether a statement is \"true\" or \"false\". However, \"What is truth?\" it is a question to carefully consider when programming. \n",
    "\n",
    "The basic form of an <b>if</b> statement is \n",
    "\n",
    "<pre>\n",
    "if (condition) :\n",
    "    block\n",
    "</pre>\n",
    "\n",
    "Here is an example program:"
   ]
  },
  {
   "cell_type": "code",
   "execution_count": 2,
   "metadata": {},
   "outputs": [
    {
     "name": "stdout",
     "output_type": "stream",
     "text": [
      "This is a short piece of DNA\n"
     ]
    }
   ],
   "source": [
    "#!/usr/bin/env python\n",
    "\n",
    "# Example 3.2\n",
    "# Name: If.py\n",
    "# Description:  This program tests the if statement\n",
    "\n",
    "DNA = 'AGTTGTAATGAGGCTGCCGTGATA'\n",
    "DNA_length = len(DNA)\n",
    "\n",
    "if (DNA_length < 100) :\n",
    "    print ('This is a short piece of DNA')"
   ]
  },
  {
   "cell_type": "markdown",
   "metadata": {},
   "source": [
    "The are 3 important things to remember with the <b>if</b> statement; the brackets (), the colon and to indent the block following the colon.  There can be multiple lines in the block, as long as they are all indented the same amount.\n",
    "\n",
    "### if...else\n",
    "\n",
    "The basic form of an <b>if</b> statement is \n",
    "<pre>\n",
    "if (condition) :\n",
    "    block\n",
    "else :\n",
    "    block\n",
    "</pre>"
   ]
  },
  {
   "cell_type": "code",
   "execution_count": 3,
   "metadata": {},
   "outputs": [
    {
     "name": "stdout",
     "output_type": "stream",
     "text": [
      "This is a short piece of DNA\n"
     ]
    }
   ],
   "source": [
    "#!/usr/bin/env python\n",
    "\n",
    "# Example 3.3\n",
    "# Name: If_else.py\n",
    "# Description:  This program tests the if...else statement\n",
    "\n",
    "DNA = 'AGTTGTAATGAGGCTGCCGTGATA'\n",
    "DNA_length = len(DNA)\n",
    "\n",
    "if (DNA_length > 100) :\n",
    "    print ('This is a long piece of DNA')\n",
    "\n",
    "else :\n",
    "    print ('This is a short piece of DNA')"
   ]
  },
  {
   "cell_type": "markdown",
   "metadata": {},
   "source": [
    "### if...elif...else\n",
    "\n",
    "We could also use an if..elif..else statement which has the form\n",
    "\n",
    "<pre>\n",
    "if (condition) :\n",
    "    block\n",
    "elif (condition 2) :\n",
    "    block\n",
    "elif (condition 3) :\n",
    "    block\n",
    "else :\n",
    "    block\n",
    "</pre>\n"
   ]
  },
  {
   "cell_type": "code",
   "execution_count": 4,
   "metadata": {},
   "outputs": [
    {
     "name": "stdout",
     "output_type": "stream",
     "text": [
      "This is a short piece of DNA\n"
     ]
    }
   ],
   "source": [
    "#!/usr/bin/env python\n",
    "\n",
    "# Example 3.4\n",
    "# Name: If_elif.py\n",
    "# Description:  This program tests the if...elif statement\n",
    "\n",
    "DNA = 'AGTTGTAATGAGGCTGCCGTGATA'\n",
    "DNA_length = len(DNA)\n",
    "\n",
    "if (DNA_length > 500) :\n",
    "    print ('This is a long piece of DNA')\n",
    "elif (100 < DNA_length <= 500) :\n",
    "    print ('This is a medium piece of DNA')\n",
    "else:\n",
    "    print ('This is a short piece of DNA')"
   ]
  },
  {
   "cell_type": "markdown",
   "metadata": {},
   "source": [
    "## 3.3 Operators\n",
    "\n",
    "In the above examples we used the greater than and less than operators.  Here are some of the other common Python operators"
   ]
  },
  {
   "cell_type": "markdown",
   "metadata": {},
   "source": [
    "### Comparison Operators"
   ]
  },
  {
   "cell_type": "markdown",
   "metadata": {},
   "source": [
    "<pre>\n",
    "==\tChecks if the value of two operands are equal or not, if yes then condition becomes true.\n",
    "!=\tChecks if the value of two operands are equal or not, if values are not equal then condition becomes true\n",
    "<>\tChecks if the value of two operands are equal or not, if values are not equal then condition becomes true.\n",
    ">=\tChecks if the value of left operand is greater than or equal to the value of right operand, if yes then condition becomes true.\n",
    "<=\tChecks if the value of left operand is less than or equal to the value of right operand, if yes then condition becomes true.\n",
    "</pre>"
   ]
  },
  {
   "cell_type": "markdown",
   "metadata": {},
   "source": [
    "### Membership Operators\n",
    "\n",
    "Python has membership operators, which test for membership in strings. There are two membership operators explained below:\n"
   ]
  },
  {
   "cell_type": "markdown",
   "metadata": {},
   "source": [
    "<pre>\n",
    "<b>in</b>\t    Evaluates to true if it finds a variable in the specified sequence and false otherwise.\t\n",
    "<b>not in</b>\tEvaluates to true if it does not finds a variable in the specified sequence and false otherwise.\n",
    "</pre>"
   ]
  },
  {
   "cell_type": "code",
   "execution_count": 5,
   "metadata": {},
   "outputs": [
    {
     "name": "stdout",
     "output_type": "stream",
     "text": [
      "This is probably a piece of DNA since it contains thymidine\n"
     ]
    }
   ],
   "source": [
    "#!/usr/bin/env python\n",
    "\n",
    "# Example 3.5\n",
    "# Name: membership.py\n",
    "# Description:  This program tests the membership operator\n",
    "\n",
    "DNA = 'AGTTGTAATGAGGCTGCCGTGATA'\n",
    "\n",
    "if ('T' in DNA) :\n",
    "    print ('This is probably a piece of DNA since it contains thymidine')\n",
    "elif ('U' in DNA) :\n",
    "    print ('This is probably a piece of RNA since it contains uracil')"
   ]
  },
  {
   "cell_type": "markdown",
   "metadata": {},
   "source": [
    "### Logical Operators"
   ]
  },
  {
   "cell_type": "markdown",
   "metadata": {},
   "source": [
    "<pre>\n",
    "<b>and</b> - Called Logical AND operator. If both the operands are true then then condition becomes true.\n",
    "<b>or</b>  - Called Logical OR Operator. If any of the two operands are non zero then then condition becomes true.\n",
    "<b>not</b> - Called Logical NOT Operator. Use to reverses the logical state of its operand. If a condition is true then Logical NOT operator will make false.\n",
    "</pre>"
   ]
  },
  {
   "cell_type": "code",
   "execution_count": 6,
   "metadata": {},
   "outputs": [
    {
     "name": "stdout",
     "output_type": "stream",
     "text": [
      "This DNA sequence contains all 4 nucleotides\n"
     ]
    }
   ],
   "source": [
    "#!/usr/bin/env python\n",
    "\n",
    "# Example 3.6\n",
    "# Name: logical.py\n",
    "# Description:  This program tests logical operators\n",
    "\n",
    "DNA = 'AGTTGTAATGAGGCTGCCGTGATA'\n",
    "\n",
    "if ('A' in DNA and 'C' in DNA and 'G' in DNA and 'T' in DNA) :\n",
    "    print ('This DNA sequence contains all 4 nucleotides')"
   ]
  },
  {
   "cell_type": "code",
   "execution_count": 7,
   "metadata": {},
   "outputs": [
    {
     "name": "stdout",
     "output_type": "stream",
     "text": [
      "DNA1 and DNA2 are the same \n",
      "AGTTGTAATGAGGCTGCCGTGATA\n",
      "AGTTGTAATGAGGCTGCCGTGATA\n",
      "\n",
      "DNA2 and DNA3 are not the same \n",
      "AGTTGTAATGAGGCTGCCGTGATA\n",
      "TCTTGTAATGAGCCTGCCGTGATT\n",
      "\n"
     ]
    }
   ],
   "source": [
    "#!/usr/bin/env python\n",
    "\n",
    "# Example 3.7\n",
    "# DNA_equivalence.py\n",
    "# A program that tests whether DNA fragments are identical\n",
    "\n",
    "# DNA fragments\n",
    "DNA1 = 'AGTTGTAATGAGGCTGCCGTGATA'\n",
    "DNA2 = 'AGTTGTAATGAGGCTGCCGTGATA'\n",
    "DNA3 = 'TCTTGTAATGAGCCTGCCGTGATT'\n",
    "\n",
    "# Test to see if the DNA sequences are the same\n",
    "\n",
    "if DNA1 == DNA2 :\n",
    "    print ('DNA1 and DNA2 are the same \\n%s\\n%s\\n' % (DNA1, DNA2))\n",
    "else :\n",
    "    print ('DNA1 and DNA2 are not the same \\n%s\\n%s\\n' % (DNA1, DNA2))\n",
    "\n",
    "if DNA2 == DNA3 :\n",
    "    print ('DNA2 and DNA3 are the same \\n%s\\n%s\\n' % (DNA2, DNA3))\n",
    "else :\n",
    "    print ('DNA2 and DNA3 are not the same \\n%s\\n%s\\n' % (DNA2, DNA3))"
   ]
  },
  {
   "cell_type": "code",
   "execution_count": 8,
   "metadata": {},
   "outputs": [
    {
     "name": "stdout",
     "output_type": "stream",
     "text": [
      "AGTTGTAATGAGGCTGCCGTGATA\n",
      "AGTTGTAATGAGGCTGCCGTGATA\n",
      "TGTTGTAATGAGCCTGCCGTGATT\n",
      "*.\n",
      "\n"
     ]
    }
   ],
   "source": [
    "#!/usr/bin/env python\n",
    "\n",
    "# Example 3.8\n",
    "# DNA_site_conservation.py\n",
    "# A program that tests whether the nucleotides at a particular site are DNA at a site are conserved\n",
    "\n",
    "# DNA fragments\n",
    "DNA1 = 'AGTTGTAATGAGGCTGCCGTGATA'\n",
    "DNA2 = 'AGTTGTAATGAGGCTGCCGTGATA'\n",
    "DNA3 = 'TGTTGTAATGAGCCTGCCGTGATT'\n",
    "PATTERN = ''\n",
    "# tests whether the nucleotides at a particular site are DNA at a site are conserved\n",
    "\n",
    "if DNA1[0] != DNA2[0] :\n",
    "    PATTERN = PATTERN + '*'\n",
    "elif DNA1[0] != DNA3[0] :\n",
    "    PATTERN = PATTERN + '*'\n",
    "elif DNA2[0] != DNA3[0] :\n",
    "    PATTERN = PATTERN + '*'\n",
    "else :\n",
    "    PATTERN = PATTERN + '.'\n",
    "\n",
    "if DNA1[1] != DNA2[1] :\n",
    "    PATTERN = PATTERN + '*'\n",
    "elif DNA1[1] != DNA3[1] :\n",
    "    PATTERN = PATTERN + '*'\n",
    "elif DNA2[1] != DNA3[1] :\n",
    "    PATTERN = PATTERN + '*'\n",
    "else :\n",
    "    PATTERN = PATTERN + '.'\n",
    "\n",
    "print ('%s\\n%s\\n%s\\n%s\\n' % (DNA1, DNA2, DNA3, PATTERN))"
   ]
  },
  {
   "cell_type": "markdown",
   "metadata": {},
   "source": [
    "Another way of accomplishing the same task"
   ]
  },
  {
   "cell_type": "code",
   "execution_count": 9,
   "metadata": {},
   "outputs": [
    {
     "name": "stdout",
     "output_type": "stream",
     "text": [
      "AGTTGTAATGAGGCTGCCGTGATA\n",
      "AGTTGTAATGAGGCTGCCGTGATA\n",
      "TGTTGTAATGAGCCTGCCGTGATT\n",
      "*.\n",
      "\n"
     ]
    }
   ],
   "source": [
    "# Example 3.9\n",
    "# DNA_site_conservation.py\n",
    "# A program that tests whether the nucleotides at a particular site are DNA at a site are conserved\n",
    "\n",
    "# DNA fragments\n",
    "DNA1 = 'AGTTGTAATGAGGCTGCCGTGATA'\n",
    "DNA2 = 'AGTTGTAATGAGGCTGCCGTGATA'\n",
    "DNA3 = 'TGTTGTAATGAGCCTGCCGTGATT'\n",
    "PATTERN = ''\n",
    "# tests whether the nucleotides at a particular site are DNA at a site are conserved\n",
    "\n",
    "if DNA1[0] != DNA2[0] or DNA1[0] != DNA3[0] :\n",
    "    PATTERN = PATTERN + '*'\n",
    "else :\n",
    "    PATTERN = PATTERN + '.'\n",
    "    \n",
    "if DNA1[1] != DNA2[1] or DNA1[1] != DNA3[1] :\n",
    "    PATTERN = PATTERN + '*'\n",
    "else :\n",
    "    PATTERN = PATTERN + '.'\n",
    "    \n",
    "# This is getting redundant.  Let's learn loops to finish this\n",
    "\n",
    "print ('%s\\n%s\\n%s\\n%s\\n' % (DNA1, DNA2, DNA3, PATTERN))"
   ]
  },
  {
   "cell_type": "markdown",
   "metadata": {},
   "source": [
    "## Exercises\n",
    "\n",
    "Use these Drosophila alcohol dehydrogenase sequences https://moodle.umass.edu/mod/resource/view.php?id=1386275 from the McDonald and Kreitman paper for the following exercises.\n",
    "\n",
    "\n",
    "1. Write a program to determine the total number of A, T, C and G in each sequence.\n",
    "\n",
    "2. Write a program to determine if any of the six sequences are identifical.\n",
    " \n",
    "3. For the 6 sequences determine the whether a site is polymorphic at each position and print the results at the bottom of the alignment (e.g. as in Examples 3.8 and 3.9)."
   ]
  },
  {
   "cell_type": "markdown",
   "metadata": {},
   "source": [
    "* Next - <a href=\"http://nbviewer.ipython.org/github/jeffreyblanchard/EvoGenV5/blob/master/EvoGenV5_Lab4.ipynb\">Session 4 : Detecting Selection in Strings with Loops</a>\n",
    "* Previous - <a href=\"http://nbviewer.ipython.org/github/jeffreyblanchard/EvoGenV5/blob/master/EvoGenV5_Lab2.ipynb\">Session 2 : Sequences and Strings</a> "
   ]
  }
 ],
 "metadata": {
  "kernelspec": {
   "display_name": "Python 3",
   "language": "python",
   "name": "python3"
  },
  "language_info": {
   "codemirror_mode": {
    "name": "ipython",
    "version": 3
   },
   "file_extension": ".py",
   "mimetype": "text/x-python",
   "name": "python",
   "nbconvert_exporter": "python",
   "pygments_lexer": "ipython3",
   "version": "3.6.5"
  }
 },
 "nbformat": 4,
 "nbformat_minor": 1
}
