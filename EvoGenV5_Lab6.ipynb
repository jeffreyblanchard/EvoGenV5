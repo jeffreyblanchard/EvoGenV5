{
 "cells": [
  {
   "cell_type": "markdown",
   "metadata": {},
   "source": [
    "# Session 6 - Random Mutations\n",
    "\n",
    "## Learning Objectives\n",
    "\n",
    "* Model mutation with random numbers by learning how to randomly select a nucleotide in DNA and then mutate it to some other (random) nucleotide.\n",
    "* Use random numbers to generate DNA sequence data sets, which can be used to study the extent of randomness in actual genomes.\n",
    "* Repeatedly mutate DNA to study the effect of mutations accumulating over time during evolution."
   ]
  },
  {
   "cell_type": "markdown",
   "metadata": {},
   "source": [
    "## 6.1 Random - generating pseudo-random numbers and patterns\n",
    "\n",
    "### Simulation\n",
    "Most of our labs in this course are driven by data, but simulation is one of the major tools of computational research. How do we know if our motif or any other pattern may have biological significance? The first step is to determine if it occurs more frequently than expected in a randomized set of sequences or other data. Simulation studies are already an important part of ecology, epidemiology and evolution where models are needed to predict trajectories of environmental change and where simulation studies are used to test theory that is not testable by current laboratory methods. Increasingly simulation is used in the study of basic cellular processes, like the cell cycle and protein export and it is an important tool in the growing field of Systems Biology in which computer models of cells and organisms are being developed to understand and predict drug response. In many of these models mutation is a fundamental component.\n",
    "\n",
    "### Random Number Generators\n",
    "\n",
    "A random number generator generates a sequence of numbers or symbols that lack any pattern, i.e. appear random.  However, the Python and most random number generators are not truly random but rely algorithms for generating a sequence of numbers that approximates the properties of random numbers.  Thus they are often called Pseuorandom number generators.  This is fine for us because we are not developing software for security purposes. "
   ]
  },
  {
   "cell_type": "code",
   "execution_count": 1,
   "metadata": {},
   "outputs": [
    {
     "name": "stdout",
     "output_type": "stream",
     "text": [
      "return of random.random = 0.13329501915834008\n",
      "return of random.randint = 3\n",
      "return of random.randrange = 2\n",
      "return of random.randrange = 5\n",
      "return of random.choice = G\n",
      "return of random.shuffle = ['G', 'C', 'A', 'T']\n"
     ]
    }
   ],
   "source": [
    "#!/usr/bin/env python\n",
    "\n",
    "# Example 6.1\n",
    "# Name: random_exercise.py\n",
    "# Description: A program to test randomization methods\n",
    "\n",
    "# Import the python package random to your program.\n",
    "import random\n",
    "\n",
    "# Random - returns a floating point number in the range [0, 1) \n",
    "# (that is, between 0 and 1, including 0.0 but always smaller than 1.0).\n",
    "a = random.random()\n",
    "print ('return of random.random =', a)\n",
    "\n",
    "# Randint - returns a random integer N such that a <= N <= b. \n",
    "b = random.randint(1,3)\n",
    "print ('return of random.randint =', b)\n",
    "\n",
    "# Randrange - returns a random integer N such that a <= N < b. \n",
    "c = random.randrange(1,3)\n",
    "print ('return of random.randrange =', c)\n",
    "\n",
    "# Randrange - returns a random integer N such that a <= N < b using a step \n",
    "# random.randrange(start, stop[, step])\n",
    "d = random.randrange(0,10,5)\n",
    "print ('return of random.randrange =', d)\n",
    "\n",
    "# Choice - returns a random element from a list.\n",
    "bases = ['A', 'C', 'G', 'T']\n",
    "e = random.choice(bases)\n",
    "print ('return of random.choice =', e)\n",
    "\n",
    "# Shuffle - shuffles elements in a list.\n",
    "bases = ['A', 'C', 'G', 'T']\n",
    "random.shuffle(bases)\n",
    "print ('return of random.shuffle =', bases)\n",
    "\n"
   ]
  },
  {
   "cell_type": "markdown",
   "metadata": {},
   "source": [
    "Rerun Example 6.1 5 times so that you understand the results.  There are also many other specialized generators in this module see http://docs.python.org/2/library/functions.html.   Below are some example programs that use randomization."
   ]
  },
  {
   "cell_type": "code",
   "execution_count": 2,
   "metadata": {},
   "outputs": [
    {
     "name": "stdout",
     "output_type": "stream",
     "text": [
      "CTAGGCCTCCGGATATACAAGAAAAATCCGGCTTAGGG\n"
     ]
    }
   ],
   "source": [
    "#!/usr/bin/env python\n",
    "\n",
    "# Example 6.2\n",
    "# Name: random_DNA_synthesis.py\n",
    "# Description: A program that creates a random piece of DNA \n",
    "# between 10 and 100 nucleotides in length\n",
    "\n",
    "import random\n",
    "\n",
    "length = random.randint(10,100)\n",
    "sequence = ''\n",
    "bases = ['A', 'C', 'G', 'T']\n",
    "for i in range(length):\n",
    "    sequence += random.choice(bases)\n",
    "print (sequence)"
   ]
  },
  {
   "cell_type": "code",
   "execution_count": 3,
   "metadata": {},
   "outputs": [
    {
     "name": "stdout",
     "output_type": "stream",
     "text": [
      "T\n",
      "G\n",
      "C\n"
     ]
    }
   ],
   "source": [
    "#!/usr/bin/env python\n",
    "\n",
    "# Example 6.3\n",
    "# Name: string_to_list.py\n",
    "# Description: An example where a string is turned into a list\n",
    "# and one element is randomly selected\n",
    "\n",
    "import random\n",
    "\n",
    "# A string can be turned into a list with each nucleotide as an item\n",
    "# in the list using the list function\n",
    "DNA = list('ACGTACGTACGTACGTACGT')\n",
    "base1 = random.choice(DNA)\n",
    "print (base1)\n",
    "base2 = random.choice(DNA)\n",
    "print (base2)\n",
    "base3 = random.choice(DNA)\n",
    "print (base3)"
   ]
  },
  {
   "cell_type": "code",
   "execution_count": 4,
   "metadata": {},
   "outputs": [
    {
     "name": "stdout",
     "output_type": "stream",
     "text": [
      "20 10 G C\n",
      "ACGTACGTACGTACGTACGT\n",
      "ACGTACGTACCTACGTACGT\n"
     ]
    }
   ],
   "source": [
    "#!/usr/bin/env python\n",
    "\n",
    "# Example 6.4\n",
    "# Name: mutate_DNA.py\n",
    "# Description: Create a point mutation in a DNA sequence at a random site\n",
    "\n",
    "import random\n",
    "\n",
    "# A string can be turned into a list with each nucleotide as an item\n",
    "# in the list using the list function\n",
    "\n",
    "original_DNA = 'ACGTACGTACGTACGTACGT'\n",
    "DNA = list(original_DNA)\n",
    "\n",
    "# randomly choose the site to mutate\n",
    "\n",
    "DNA_length = len(DNA)\n",
    "mutation_site = random.randrange(0,DNA_length)\n",
    "\n",
    "# remove the nucleotide \n",
    "original_base = DNA.pop(mutation_site)\n",
    "\n",
    "# randomly choose the new nucleotide \n",
    "# (and make sure the original base is not a candidate)\n",
    "bases = ['A', 'C', 'G', 'T']\n",
    "bases.remove(original_base)\n",
    "new_base = random.choice(bases)\n",
    "\n",
    "# insert the new base at the site\n",
    "DNA.insert(mutation_site, new_base)\n",
    "\n",
    "# turn the DNA list back into a string\n",
    "new_DNA = ''.join(DNA)\n",
    "\n",
    "print (DNA_length, mutation_site, original_base, new_base)\n",
    "print (original_DNA)\n",
    "print (new_DNA)"
   ]
  },
  {
   "cell_type": "markdown",
   "metadata": {},
   "source": [
    "# Exercises\n",
    "\n",
    "1. Write a program that randomly generates a nucleotide sequence with a length between 40 and 60.\n",
    "\n",
    "2. Write a program that mutates the DNA sequence 10 times and prints the resulting sequence aligned with the orginal sequence and with the polymorphisms noted (as in Lab 4.)\n",
    "\n",
    "3. Calculate the number of substitutions that accumulate after the above random sequence is mutated 10, 20, 30, 40 and 50 times.  Does the number of substitutions equal the number of mutations? Why or Why not?"
   ]
  },
  {
   "cell_type": "markdown",
   "metadata": {},
   "source": [
    "* Next - <a href=\"http://nbviewer.ipython.org/github/jeffreyblanchard/EvoGenV5/blob/master/EvoGenV5_Lab7.ipynb\">Session 7 : Dictionaries</a>\n",
    "* Previous - <a href=\"http://nbviewer.ipython.org/github/jeffreyblanchard/EvoGenV5/blob/master/EvoGenV5_Lab5.ipynb\">Session 5 : Lists</a>\n"
   ]
  }
 ],
 "metadata": {
  "kernelspec": {
   "display_name": "Python 3",
   "language": "python",
   "name": "python3"
  },
  "language_info": {
   "codemirror_mode": {
    "name": "ipython",
    "version": 3
   },
   "file_extension": ".py",
   "mimetype": "text/x-python",
   "name": "python",
   "nbconvert_exporter": "python",
   "pygments_lexer": "ipython3",
   "version": "3.6.5"
  }
 },
 "nbformat": 4,
 "nbformat_minor": 1
}
